{
 "cells": [
  {
   "cell_type": "markdown",
   "id": "770a37d3",
   "metadata": {},
   "source": [
    "#### NumPy fundamentals\n",
    "- dtype allows us to chagne from integer to float for all elements in the array\n",
    "- reshape should be done into same number: (4, 4) or (2, 2, 2, 2) not (2, 4)\n",
    "- with cursor at the end fo the function name, Shift + Tab pulls up docstring\n",
    "- accessing 2D array by index: first number refers to row, second number refers to column\n",
    "- slicing\n",
    "    - 1D: same as list\n",
    "    - 2D: first row slicing, then column slicing\n",
    "- looping of arrays: row-wise  \n",
    "    - need to use two loops to print each element of 2D array or use diter()\n",
    "- splitting: resulting arrays need ot have same dimensions if hsplit() or vsplit() is used"
   ]
  },
  {
   "cell_type": "markdown",
   "id": "3e79dee3",
   "metadata": {},
   "source": [
    "#### NumPy advanced\n",
    "- performing logical operations on a numpy array converts our array to Boolean array\n",
    "    - it checks logical operator for each element\n",
    "    - use a[condition] to get all elements that our condition\n",
    "    - can use multiple expressions together, just combine expressions usign bitwise and, bitwise or\n",
    "        - we write out and, or when we do non-mathematical operations\n",
    "- mathematical operations on two or more arrays are done pairwise element by element"
   ]
  },
  {
   "cell_type": "markdown",
   "id": "d20d3435",
   "metadata": {},
   "source": [
    "#### NumPy methods\n",
    "- np.sort() sorts in ascending order\n",
    "    - use np.sort()[::-1] if array needs to be sorted in descending order\n",
    "    - sorting 2D arrays\n",
    "        - give axis=0 as parameter if sorting by rows\n",
    "        - give axis=1 as parameter if sorting by columns\n",
    "- np.unique() acts as set\n",
    "- np.where() circumvents the need for if else statements, always returns indices\n",
    "- why is NumPy so efficient\n",
    "     - written in C/C++\n",
    "     - when we change the array, it creates a view (copy of the array) and changes the view, leaving original array intact"
   ]
  },
  {
   "cell_type": "markdown",
   "id": "8117eed8",
   "metadata": {},
   "source": [
    "#### Pandas series\n",
    "- series can hold any type of data and indexed/accessed by axis label, not just numerical axis/index\n",
    "    - creating a series using read_csv function\n",
    "        - squeeze=True converts Pandas dataframe to Pandas series\n",
    "    - sorting: series name.sort_values() or series_name.sort_index() to sort in ascending order\n",
    "        - need to set ascending argument to False to sort in descending order\n",
    "        - default setting for in-place is False for both sort_values() and sort_index()\n",
    "            - sort_values() allows sorting along either axis in the dataframe\n",
    "    - describe() gives descriptive statistics for a series\n",
    "    - need to actually know the index of the last element/value in a series to access it because negative indexing doesn't work in Pandas\n",
    "        - negative slicing does work in Pandas\n",
    "    - editing series: using indexing\n",
    "        - if that index doesn't exist, it will add that value with its index to the series\n",
    "        - using list of indices we can change several values at the same time\n",
    "    - can use broadcasting instead of for loop for mathematical operations\n",
    "    - boolean operations work the same as in numpy arrays but we need to use size at the end of the line\n",
    "    - can do some graphs in Pandas\n",
    "    - removing duplicates from series: use drop_duplicates() or duplicated()\n",
    "        - duplicated() return boolean value\n",
    "            - considers first occurrence of a value as real (False) and all other occurrences of that value as duplicates (True)\n",
    "    - fillna() replaces all NaN values with another value"
   ]
  },
  {
   "cell_type": "markdown",
   "id": "fab8de85",
   "metadata": {},
   "source": [
    "#### Pandas dataframe\n",
    "- creating dataframe\n",
    "    - using list or dictionary, read_csv\n",
    "    - use .set_index() to create custome index from one of the columns in the dataframe\n",
    "- shape gives shape of dataframe similar to NumPy\n",
    "    - don't need () after shape with dataframe\n",
    "- sample() gives a subset of the dataset\n",
    "    - can assign result to another variable\n",
    "    - by default, returns random sample\n",
    "        - use random_state for reproducibility\n",
    "- selecting columns from dataframe is similar to values from a series\n",
    "- selecting rows from dataframe\n",
    "    - iloc searches using index positions\n",
    "    - loc searches using index name\n",
    "- can combine conditions using bitwise and when filtering dataframe\n",
    "- adding new columns to dataframe is done similar to dictionaries"
   ]
  },
  {
   "cell_type": "markdown",
   "id": "59fcc58f",
   "metadata": {},
   "source": [
    "#### Lambda function\n",
    "- small anonymous function, any number of functions but only one expression\n",
    "- call lambda function using the variable we assign it to\n",
    "- used for higher order functions"
   ]
  },
  {
   "cell_type": "markdown",
   "id": "c6ce83ec",
   "metadata": {},
   "source": [
    "#### Dataframe methods\n",
    "- .reset_index() chagnes custom index back to numerical index\n",
    "- passing the name of the columns in a (as a) dictionary (key - old name, value - new name) allows us to rename columns\n",
    "    - can do likewise for index\n",
    "- df.nunique() accomplishes same thing as len(df.unique()), but .nunique() doesn't count NaN values\n",
    "- groupby()\n",
    "    - creates a groupby object for aggregating data\n",
    "    - can group by one column or multiple columns\n",
    "        - if grouping by multiple columns give columns as list\n",
    "            - if result is assigned to another variable, we can use it as multiindex\n",
    "- multiindex methods\n",
    "    - grabbing cross section\n",
    "        - single row using multiple columns\n",
    "            - include columns as a tuple\n",
    "        - cross-section with .xs(): xs() takes a key argument to select data at a particular level of a multiindex\n",
    "    - agg(): allows us to choose which aggregation functions we want\n",
    "    - when sorting with multiindexing, specify by what level we're sorting"
   ]
  },
  {
   "cell_type": "markdown",
   "id": "a2e2132b",
   "metadata": {},
   "source": [
    "#### Combining dataframes\n",
    "- concat(): gives names of dataframes\n",
    "    - axis=0 if concatenating along rows\n",
    "    - axis=1 if concatenating along columns\n",
    "- merging dataframes is similar to join in SQL\n",
    "    - synthax: pd.merge(left dataframe, right dataframe, type of merge)\n",
    "    - join based on custom index\n",
    "        - set one column as index in left table\n",
    "        - join based on custom index: left_index=True, right_on=custom index\n",
    "- Pandas automatically tags columns with duplicate names\n",
    "    - it automatically adds _x or _y to name of duplicate, if needed specify prefix"
   ]
  },
  {
   "cell_type": "markdown",
   "id": "2c77fe1e",
   "metadata": {},
   "source": [
    "#### Text methods and time methods\n",
    "- using text/string methods with Pandas: add.str before string method\n",
    "    - used for data cleaning\n",
    "- time methods\n",
    "    - datetime object separate from Pandas\n",
    "        - convert dates to datetime using to_datetime(column name)\n",
    "        - can provide custom date format to Pandas, just specify format\n",
    "    - resample(): convenience method for frequency conversion and resampling of time series"
   ]
  },
  {
   "cell_type": "markdown",
   "id": "bb8fb784",
   "metadata": {},
   "source": [
    "#### Math methods\n",
    "- sum defaults to axis=0 for series\n",
    "    - unused for series\n",
    "    - specifying axis=None for dataframes will apply aggregation across both axes\n",
    "- value counts arranges in descending order"
   ]
  }
 ],
 "metadata": {
  "kernelspec": {
   "display_name": "Python 3 (ipykernel)",
   "language": "python",
   "name": "python3"
  },
  "language_info": {
   "codemirror_mode": {
    "name": "ipython",
    "version": 3
   },
   "file_extension": ".py",
   "mimetype": "text/x-python",
   "name": "python",
   "nbconvert_exporter": "python",
   "pygments_lexer": "ipython3",
   "version": "3.11.4"
  }
 },
 "nbformat": 4,
 "nbformat_minor": 5
}
