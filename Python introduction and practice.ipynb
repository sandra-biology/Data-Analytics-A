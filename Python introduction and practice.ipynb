{
 "cells": [
  {
   "cell_type": "code",
   "execution_count": 1,
   "id": "60cd6b6a",
   "metadata": {},
   "outputs": [
    {
     "name": "stdout",
     "output_type": "stream",
     "text": [
      "john\n"
     ]
    }
   ],
   "source": [
    "# mentioning the name of the person\n",
    "a = 'john'\n",
    "print(a)"
   ]
  },
  {
   "cell_type": "code",
   "execution_count": 2,
   "id": "5494688a",
   "metadata": {},
   "outputs": [
    {
     "name": "stdout",
     "output_type": "stream",
     "text": [
      "sum: 1368\n"
     ]
    }
   ],
   "source": [
    "sum = 123 +\\\n",
    "    456 +\\\n",
    "    789\n",
    "print(f'sum: {sum}')"
   ]
  },
  {
   "cell_type": "code",
   "execution_count": 7,
   "id": "8ac90f6d",
   "metadata": {},
   "outputs": [
    {
     "name": "stdout",
     "output_type": "stream",
     "text": [
      "a: 10\n",
      "5\n",
      "20\n"
     ]
    }
   ],
   "source": [
    "a = 10\n",
    "b = 5\n",
    "c = 20\n",
    "if a > 1 or b > 0 or c > 0:\n",
    "    print(f'a: {a}')\n",
    "    print(b)\n",
    "    print(c)"
   ]
  },
  {
   "cell_type": "code",
   "execution_count": 8,
   "id": "26ddff83",
   "metadata": {},
   "outputs": [
    {
     "name": "stdout",
     "output_type": "stream",
     "text": [
      "we\"re inside block\n"
     ]
    }
   ],
   "source": [
    "if True:\n",
    "    print(f'we\"re inside block')"
   ]
  },
  {
   "cell_type": "code",
   "execution_count": 5,
   "id": "5c0fcf85",
   "metadata": {},
   "outputs": [
    {
     "ename": "SyntaxError",
     "evalue": "invalid syntax. Perhaps you forgot a comma? (3358620256.py, line 2)",
     "output_type": "error",
     "traceback": [
      "\u001b[1;36m  Cell \u001b[1;32mIn[5], line 2\u001b[1;36m\u001b[0m\n\u001b[1;33m    print(f'we're inside the block)\u001b[0m\n\u001b[1;37m          ^\u001b[0m\n\u001b[1;31mSyntaxError\u001b[0m\u001b[1;31m:\u001b[0m invalid syntax. Perhaps you forgot a comma?\n"
     ]
    }
   ],
   "source": [
    "if True:\n",
    "    print(f'we're inside the block)"
   ]
  },
  {
   "cell_type": "code",
   "execution_count": 19,
   "id": "57029852",
   "metadata": {},
   "outputs": [
    {
     "ename": "TypeError",
     "evalue": "set expected at most 1 argument, got 5",
     "output_type": "error",
     "traceback": [
      "\u001b[1;31m---------------------------------------------------------------------------\u001b[0m",
      "\u001b[1;31mTypeError\u001b[0m                                 Traceback (most recent call last)",
      "Cell \u001b[1;32mIn[19], line 1\u001b[0m\n\u001b[1;32m----> 1\u001b[0m a \u001b[38;5;241m=\u001b[39m \u001b[38;5;28mset\u001b[39m(\u001b[38;5;241m5\u001b[39m, \u001b[38;5;241m2\u001b[39m, \u001b[38;5;241m3\u001b[39m, \u001b[38;5;241m1\u001b[39m, \u001b[38;5;241m4\u001b[39m)\n\u001b[0;32m      2\u001b[0m \u001b[38;5;28mprint\u001b[39m(\u001b[38;5;124mf\u001b[39m\u001b[38;5;124m'\u001b[39m\u001b[38;5;124ma: \u001b[39m\u001b[38;5;132;01m{\u001b[39;00ma\u001b[38;5;132;01m}\u001b[39;00m\u001b[38;5;124m, type(a): \u001b[39m\u001b[38;5;132;01m{\u001b[39;00m\u001b[38;5;28mtype\u001b[39m(a)\u001b[38;5;132;01m}\u001b[39;00m\u001b[38;5;124m'\u001b[39m)\n",
      "\u001b[1;31mTypeError\u001b[0m: set expected at most 1 argument, got 5"
     ]
    }
   ],
   "source": [
    "a = set(5, 2, 3, 1, 4)\n",
    "print(f'a: {a}, type(a): {type(a)}')"
   ]
  },
  {
   "cell_type": "code",
   "execution_count": 10,
   "id": "cce2e90a",
   "metadata": {},
   "outputs": [
    {
     "name": "stdout",
     "output_type": "stream",
     "text": [
      "char_list[0] before modifying: a\n"
     ]
    }
   ],
   "source": [
    "char_list = ['a', 'b', 'c', 'd']\n",
    "print(f'char_list[0] before modifying: {char_list[0]}')"
   ]
  },
  {
   "cell_type": "code",
   "execution_count": 14,
   "id": "05aaec27",
   "metadata": {},
   "outputs": [
    {
     "name": "stdout",
     "output_type": "stream",
     "text": [
      "string before: abcd\n",
      "string after: ebcd\n"
     ]
    }
   ],
   "source": [
    "string = 'abcd'\n",
    "print(f'string before: {string}')\n",
    "\n",
    "string = 'ebcd'\n",
    "print(f'string after: {string}')"
   ]
  },
  {
   "cell_type": "code",
   "execution_count": 16,
   "id": "5d9b3fbc",
   "metadata": {},
   "outputs": [
    {
     "name": "stdout",
     "output_type": "stream",
     "text": [
      "printing tuple t: (1, 2, 3)\n"
     ]
    }
   ],
   "source": [
    "t = (1, 2, 3)\n",
    "print(f'printing tuple t: {t}')"
   ]
  },
  {
   "cell_type": "code",
   "execution_count": 18,
   "id": "19cbc1ac",
   "metadata": {},
   "outputs": [
    {
     "name": "stdout",
     "output_type": "stream",
     "text": [
      "a: {1, 2, 3, 4, 5}, type(a): <class 'set'>\n"
     ]
    }
   ],
   "source": [
    "a = {5, 2, 3, 1, 4}\n",
    "print(f'a: {a}, type(a): {type(a)}')"
   ]
  },
  {
   "cell_type": "code",
   "execution_count": 20,
   "id": "7516dbef",
   "metadata": {},
   "outputs": [
    {
     "data": {
      "text/plain": [
       "85"
      ]
     },
     "execution_count": 20,
     "metadata": {},
     "output_type": "execute_result"
    }
   ],
   "source": [
    "student_scores = {'Alice': 85, 'Bob': 80, 'Charlie': 92, 'David': 70}\n",
    "student_scores['Alice']"
   ]
  },
  {
   "cell_type": "code",
   "execution_count": 23,
   "id": "b066ddd9",
   "metadata": {},
   "outputs": [
    {
     "name": "stdout",
     "output_type": "stream",
     "text": [
      "student name: Alice\n"
     ]
    }
   ],
   "source": [
    "student_scores = {'Alice': 85, 'Bob': 80, 'Charlie': 92, 'David': 70}\n",
    "student_scores['Alice']\n",
    "\n",
    "for k, v in student_scores.items():\n",
    "    if v == 85:\n",
    "        print(f'student name: {k}')"
   ]
  },
  {
   "cell_type": "code",
   "execution_count": 24,
   "id": "bda3c129",
   "metadata": {},
   "outputs": [
    {
     "data": {
      "text/plain": [
       "tuple"
      ]
     },
     "execution_count": 24,
     "metadata": {},
     "output_type": "execute_result"
    }
   ],
   "source": [
    "num = 1,00,000\n",
    "type(num)"
   ]
  },
  {
   "cell_type": "code",
   "execution_count": 25,
   "id": "c0c500f1",
   "metadata": {},
   "outputs": [
    {
     "name": "stdout",
     "output_type": "stream",
     "text": [
      "(1, 0, 0)\n"
     ]
    }
   ],
   "source": [
    "num = 1,00,000\n",
    "print(num)"
   ]
  },
  {
   "cell_type": "code",
   "execution_count": 26,
   "id": "8079ef81",
   "metadata": {},
   "outputs": [
    {
     "data": {
      "text/plain": [
       "100000"
      ]
     },
     "execution_count": 26,
     "metadata": {},
     "output_type": "execute_result"
    }
   ],
   "source": [
    "1_00_000"
   ]
  },
  {
   "cell_type": "code",
   "execution_count": 27,
   "id": "fce604f2",
   "metadata": {},
   "outputs": [
    {
     "data": {
      "text/plain": [
       "'ab'"
      ]
     },
     "execution_count": 27,
     "metadata": {},
     "output_type": "execute_result"
    }
   ],
   "source": [
    "s1 = 'a'\n",
    "s2 = 'b'\n",
    "s3 = s1 + s2\n",
    "s3"
   ]
  },
  {
   "cell_type": "code",
   "execution_count": 28,
   "id": "b1053cfd",
   "metadata": {},
   "outputs": [
    {
     "data": {
      "text/plain": [
       "'This is a\\nvery lllong stringgggggggggggg\\n!!!!!!!!!!!!!\\n'"
      ]
     },
     "execution_count": 28,
     "metadata": {},
     "output_type": "execute_result"
    }
   ],
   "source": [
    "s = \"\"\"This is a\n",
    "very lllong stringgggggggggggg\n",
    "!!!!!!!!!!!!!\n",
    "\"\"\"\n",
    "s"
   ]
  },
  {
   "cell_type": "code",
   "execution_count": 30,
   "id": "643d9b01",
   "metadata": {},
   "outputs": [
    {
     "ename": "AttributeError",
     "evalue": "'tuple' object has no attribute 'append'",
     "output_type": "error",
     "traceback": [
      "\u001b[1;31m---------------------------------------------------------------------------\u001b[0m",
      "\u001b[1;31mAttributeError\u001b[0m                            Traceback (most recent call last)",
      "Cell \u001b[1;32mIn[30], line 2\u001b[0m\n\u001b[0;32m      1\u001b[0m a \u001b[38;5;241m=\u001b[39m \u001b[38;5;241m1\u001b[39m, \u001b[38;5;241m2\u001b[39m, \u001b[38;5;241m3\u001b[39m\n\u001b[1;32m----> 2\u001b[0m a\u001b[38;5;241m.\u001b[39mappend(\u001b[38;5;241m4\u001b[39m)\n",
      "\u001b[1;31mAttributeError\u001b[0m: 'tuple' object has no attribute 'append'"
     ]
    }
   ],
   "source": [
    "a = 1, 2, 3\n",
    "a.append(4)"
   ]
  },
  {
   "cell_type": "code",
   "execution_count": 31,
   "id": "23db1690",
   "metadata": {},
   "outputs": [
    {
     "ename": "AttributeError",
     "evalue": "'tuple' object has no attribute 'add'",
     "output_type": "error",
     "traceback": [
      "\u001b[1;31m---------------------------------------------------------------------------\u001b[0m",
      "\u001b[1;31mAttributeError\u001b[0m                            Traceback (most recent call last)",
      "Cell \u001b[1;32mIn[31], line 2\u001b[0m\n\u001b[0;32m      1\u001b[0m b \u001b[38;5;241m=\u001b[39m \u001b[38;5;241m1\u001b[39m, \u001b[38;5;241m2\u001b[39m, \u001b[38;5;241m3\u001b[39m\n\u001b[1;32m----> 2\u001b[0m b\u001b[38;5;241m.\u001b[39madd(\u001b[38;5;241m4\u001b[39m)\n",
      "\u001b[1;31mAttributeError\u001b[0m: 'tuple' object has no attribute 'add'"
     ]
    }
   ],
   "source": [
    "b = 1, 2, 3\n",
    "b.add(4)"
   ]
  },
  {
   "cell_type": "code",
   "execution_count": 34,
   "id": "bbc1effb",
   "metadata": {},
   "outputs": [
    {
     "data": {
      "text/plain": [
       "{1, 2, 3, 4}"
      ]
     },
     "execution_count": 34,
     "metadata": {},
     "output_type": "execute_result"
    }
   ],
   "source": [
    "st = {1, 2, 3}\n",
    "# st.append(4)\n",
    "st.add(4)\n",
    "st"
   ]
  },
  {
   "cell_type": "code",
   "execution_count": 39,
   "id": "e2d37a23",
   "metadata": {},
   "outputs": [
    {
     "name": "stdout",
     "output_type": "stream",
     "text": [
      "hash_value1: 42\n",
      "hash_value2: 3495319088990182631\n"
     ]
    }
   ],
   "source": [
    "# hashing integers\n",
    "\n",
    "hash_value1 = hash(42)\n",
    "hash_value2 = hash('Hello, World!')\n",
    "print(f'hash_value1: {hash_value1}')\n",
    "print(f'hash_value2: {hash_value2}')"
   ]
  },
  {
   "cell_type": "markdown",
   "id": "d1fe8835",
   "metadata": {},
   "source": [
    "Homework"
   ]
  },
  {
   "cell_type": "code",
   "execution_count": 55,
   "id": "fcd24f53",
   "metadata": {},
   "outputs": [
    {
     "name": "stdout",
     "output_type": "stream",
     "text": [
      "maximum of three numbers: 0\n"
     ]
    }
   ],
   "source": [
    "# maximum\n",
    "\n",
    "def find_maximum(lst):\n",
    "    if len(lst) == 0:\n",
    "        return 0\n",
    "\n",
    "    max_num = array[0]\n",
    "    for num in array:\n",
    "        if num > max_num:\n",
    "            max_num = num\n",
    "\n",
    "    return max_num\n",
    "\n",
    "array = [20, 30, 25]\n",
    "array = []\n",
    "maximum_number = find_maximum(array)\n",
    "print(f'maximum of three numbers: {maximum_number}')"
   ]
  },
  {
   "cell_type": "code",
   "execution_count": 3,
   "id": "0e3e9c91",
   "metadata": {},
   "outputs": [
    {
     "name": "stdout",
     "output_type": "stream",
     "text": [
      "maximum of three numbers: 30\n"
     ]
    }
   ],
   "source": [
    "# maximum\n",
    "\n",
    "def find_maximum(lst):\n",
    "    max_num = array[0]\n",
    "    for num in array:\n",
    "        if num > max_num:\n",
    "            max_num = num\n",
    "\n",
    "    return max_num\n",
    "\n",
    "array = ['20', '30', '25']\n",
    "maximum_number = find_maximum(array)\n",
    "print(f'maximum of three numbers: {maximum_number}')"
   ]
  },
  {
   "cell_type": "code",
   "execution_count": 53,
   "id": "c0097bb9",
   "metadata": {},
   "outputs": [
    {
     "name": "stdout",
     "output_type": "stream",
     "text": [
      "a == []: True\n",
      "a is []: False\n"
     ]
    }
   ],
   "source": [
    "a = []\n",
    "print(f'a == []: {a == []}')  # only looks at the contents, doesn't consider address in memory\n",
    "print(f'a is []: {a is []}')  # same address in memory"
   ]
  },
  {
   "cell_type": "code",
   "execution_count": 1,
   "id": "1c48436a",
   "metadata": {},
   "outputs": [
    {
     "name": "stdout",
     "output_type": "stream",
     "text": [
      "my_range values: [-20, -19, -18, -17, -16, -15, -14, -13, -12, -11]\n",
      "number in range\n"
     ]
    }
   ],
   "source": [
    "# whether a number is in a given range\n",
    "\n",
    "# range: 10 to 20\n",
    "# number = 5\n",
    "\n",
    "my_range = range(-20, -10)\n",
    "print(f'my_range values: {list(my_range)}')\n",
    "number = -15\n",
    "# my_range = range(10, 20)\n",
    "# number = 15\n",
    "\n",
    "if number in my_range:\n",
    "    print('number in range')\n",
    "else:\n",
    "    print('number is not in range')"
   ]
  },
  {
   "cell_type": "code",
   "execution_count": 2,
   "id": "f53a96b6",
   "metadata": {},
   "outputs": [
    {
     "name": "stdout",
     "output_type": "stream",
     "text": [
      "numbers in range: [-20, -10]\n",
      "in_range1: False\n"
     ]
    }
   ],
   "source": [
    "# whether a number in a given range\n",
    "\n",
    "def number_in_range(given_range, number):\n",
    "    print(f'numbers in range: {list(given_range)}')\n",
    "    if number in given_range:\n",
    "        return True\n",
    "    return False\n",
    "\n",
    "my_range1 = [-20, -10]\n",
    "number1 = -15\n",
    "in_range1 = number_in_range(my_range1, number1)\n",
    "print(f'in_range1: {in_range1}')"
   ]
  },
  {
   "cell_type": "code",
   "execution_count": 11,
   "id": "a4e7f39c",
   "metadata": {},
   "outputs": [
    {
     "name": "stdout",
     "output_type": "stream",
     "text": [
      "numbers in range: [-20, -19, -18, -17, -16, -15, -14, -13, -12, -11]\n",
      "in_range1: True\n"
     ]
    }
   ],
   "source": [
    "# whether a number in a given range\n",
    "\n",
    "def number_in_range(given_range, number):\n",
    "    # print(f'numbers in range: {list(given_range)}')\n",
    "    print(f'numbers in range: {list(given_range)}')\n",
    "    if number in given_range:\n",
    "        return True\n",
    "    return False\n",
    "\n",
    "my_range1 = range(-20, -10)\n",
    "number1 = -15\n",
    "in_range1 = number_in_range(my_range1, number1)\n",
    "print(f'in_range1: {in_range1}')"
   ]
  },
  {
   "cell_type": "code",
   "execution_count": 33,
   "id": "f1b6eee8",
   "metadata": {},
   "outputs": [
    {
     "name": "stdout",
     "output_type": "stream",
     "text": [
      "in_range1: True\n",
      "in range2: True\n",
      "in range3: True\n",
      "in_range4: False\n"
     ]
    }
   ],
   "source": [
    "# whether a number in a given range - main algorithm\n",
    "\n",
    "def number_in_range(given_range, number):\n",
    "    return number in given_range\n",
    "\n",
    "my_range1 = range(-10, 10)\n",
    "number1 = -5\n",
    "in_range1 = number_in_range(my_range1, number1)\n",
    "print(f'in_range1: {in_range1}')\n",
    "my_range2 = range(-20, -10)\n",
    "number2 = -15\n",
    "in_range2 = number_in_range(my_range2, number2)\n",
    "print(f'in range2: {in_range2}')\n",
    "my_range3 = range(10, 40)\n",
    "number3 = 30\n",
    "in_range3 = number_in_range(my_range3, number3)\n",
    "print(f'in range3: {in_range3}')\n",
    "my_range4 = range(10, 40)\n",
    "number4 = 0\n",
    "in_range4 = number_in_range(my_range4, number4)\n",
    "print(f'in_range4: {in_range4}')"
   ]
  },
  {
   "cell_type": "code",
   "execution_count": 46,
   "id": "9e4b05b8",
   "metadata": {},
   "outputs": [
    {
     "name": "stdout",
     "output_type": "stream",
     "text": [
      "<class 'str'>\n"
     ]
    }
   ],
   "source": [
    "string = 'abc'\n",
    "print(type(string))"
   ]
  },
  {
   "cell_type": "code",
   "execution_count": 48,
   "id": "18cc8ca6",
   "metadata": {},
   "outputs": [
    {
     "data": {
      "text/plain": [
       "False"
      ]
     },
     "execution_count": 48,
     "metadata": {},
     "output_type": "execute_result"
    }
   ],
   "source": [
    "2 in range(10)\n",
    "2.5 in range(10)"
   ]
  },
  {
   "cell_type": "code",
   "execution_count": 50,
   "id": "38f00c28",
   "metadata": {},
   "outputs": [
    {
     "name": "stdout",
     "output_type": "stream",
     "text": [
      "in_range1: True\n",
      "in_range2: False\n"
     ]
    }
   ],
   "source": [
    "# whether a number in a given range\n",
    "\n",
    "def number_in_range(number, xmin, xmax):\n",
    "    return xmin <= number <= xmax\n",
    "\n",
    "xmin1 = -10\n",
    "xmax1 = 10\n",
    "number1 = -5\n",
    "in_range1 = number_in_range(number1, xmin1, xmax1)\n",
    "print(f'in_range1: {in_range1}')\n",
    "xmin2 = 40\n",
    "xmax2 = 10\n",
    "number2 = 5\n",
    "in_range2 = number in range(number2, xmin2, xmax2)\n",
    "print(f'in_range2: {in_range2}')"
   ]
  },
  {
   "cell_type": "code",
   "execution_count": 40,
   "id": "d2970d3c",
   "metadata": {},
   "outputs": [
    {
     "name": "stdout",
     "output_type": "stream",
     "text": [
      "arange as list: [-20, -19, -18, -17, -16, -15, -14, -13, -12, -11]\n",
      "reversed range as list: [-11, -12, -13, -14, -15, -16, -17, -18, -19, -20]\n"
     ]
    }
   ],
   "source": [
    "arange = range(-20, -10)\n",
    "print(f'arange as list: {list(arange)}')\n",
    "reversed_range = reversed(arange)\n",
    "print(f'reversed range as list: {list(reversed_range)}')"
   ]
  },
  {
   "cell_type": "code",
   "execution_count": 52,
   "id": "fd561e5b",
   "metadata": {},
   "outputs": [
    {
     "name": "stdout",
     "output_type": "stream",
     "text": [
      "range(10, 0)\n",
      "[]\n"
     ]
    }
   ],
   "source": [
    "print(range(10, 0))\n",
    "print(list(range(10, 0)))"
   ]
  },
  {
   "cell_type": "code",
   "execution_count": 56,
   "id": "ffa0ea13",
   "metadata": {},
   "outputs": [
    {
     "name": "stdout",
     "output_type": "stream",
     "text": [
      "10\n",
      "11\n",
      "13\n",
      "16\n",
      "20\n"
     ]
    }
   ],
   "source": [
    "a = [10, 20, 30, 40, 50]\n",
    "sum = a[0]\n",
    "\n",
    "for i in range(len(a)):\n",
    "    sum += i\n",
    "    print(sum)"
   ]
  },
  {
   "cell_type": "code",
   "execution_count": 58,
   "id": "cbd546ba",
   "metadata": {},
   "outputs": [
    {
     "name": "stdout",
     "output_type": "stream",
     "text": [
      "before loop: 10\n",
      "20\n",
      "40\n",
      "70\n",
      "110\n",
      "160\n"
     ]
    }
   ],
   "source": [
    "a = [10, 20, 30, 40, 50]\n",
    "sum = a[0]\n",
    "print(f'before loop: {sum}')\n",
    "for i in range(len(a)):\n",
    "    sum += a[i]\n",
    "    print(sum)"
   ]
  },
  {
   "cell_type": "code",
   "execution_count": 59,
   "id": "c033b219",
   "metadata": {},
   "outputs": [
    {
     "name": "stdout",
     "output_type": "stream",
     "text": [
      "before loop: 10\n",
      "30\n",
      "60\n",
      "100\n",
      "150\n"
     ]
    }
   ],
   "source": [
    "a = [10, 20, 30, 40, 50]\n",
    "sum = a[0]\n",
    "print(f'before loop: {sum}')\n",
    "for i in range(1, len(a)):\n",
    "    sum += a[i]\n",
    "    print(sum)"
   ]
  },
  {
   "cell_type": "code",
   "execution_count": 60,
   "id": "a7492a05",
   "metadata": {},
   "outputs": [
    {
     "name": "stdout",
     "output_type": "stream",
     "text": [
      "1\n",
      "0\n",
      "5\n",
      "no digits left\n"
     ]
    }
   ],
   "source": [
    "digits = [1, 0, 5]\n",
    "\n",
    "for digit in digits:\n",
    "    print(digit)\n",
    "else:\n",
    "    print('no digits left')"
   ]
  },
  {
   "cell_type": "code",
   "execution_count": 62,
   "id": "b310d2a9",
   "metadata": {},
   "outputs": [
    {
     "name": "stdout",
     "output_type": "stream",
     "text": [
      "2\n",
      "5\n",
      "6\n",
      "9\n",
      "10\n",
      "15\n",
      "18\n",
      "19\n",
      "23\n",
      "24\n",
      "i1: 9\n"
     ]
    }
   ],
   "source": [
    "#      0  1  2  3  4   5   6   7   8   9\n",
    "arr = [2, 5, 6, 9, 10, 15, 18, 19, 23, 24]\n",
    "\n",
    "# find range: i1 and i2 with elements 7 < x < 20\n",
    "\n",
    "for i in range(len(arr)):\n",
    "    print(arr[i])\n",
    "    if arr[i] > 6:\n",
    "        i1 = i\n",
    "\n",
    "print(f'i1: {i1}')"
   ]
  },
  {
   "cell_type": "code",
   "execution_count": 100,
   "id": "d6a13873",
   "metadata": {},
   "outputs": [
    {
     "name": "stdout",
     "output_type": "stream",
     "text": [
      "0\n",
      "1\n",
      "2\n",
      "3\n",
      "i1: 3\n"
     ]
    }
   ],
   "source": [
    "#      0  1  2  3  4   5   6   7   8   9\n",
    "arr = [2, 5, 6, 9, 10, 15, 18, 19, 23, 24]\n",
    "\n",
    "# find range: i1 and i2 with elements 7 < x < 20\n",
    "\n",
    "i1 = -1\n",
    "for i in range(len(arr)):\n",
    "    print(i)\n",
    "    if arr[i] <= 6:\n",
    "        continue\n",
    "    i1 = i\n",
    "    break\n",
    "\n",
    "print(f'i1: {i1}')"
   ]
  },
  {
   "cell_type": "code",
   "execution_count": 84,
   "id": "d8d1ac78",
   "metadata": {},
   "outputs": [
    {
     "name": "stdout",
     "output_type": "stream",
     "text": [
      "i1: 3\n"
     ]
    }
   ],
   "source": [
    "#      0  1  2  3  4   5   6   7   8   9\n",
    "arr = [2, 5, 6, 9, 10, 15, 18, 19, 23, 24]\n",
    "\n",
    "# find range: i1 and i2 with elements 7 < x < 20\n",
    "\n",
    "for i1 in range(len(arr)):\n",
    "    if arr[i1] <= 6:\n",
    "        continue\n",
    "    break\n",
    "\n",
    "print(f'i1: {i1}')"
   ]
  },
  {
   "cell_type": "code",
   "execution_count": 64,
   "id": "0a48958b",
   "metadata": {},
   "outputs": [
    {
     "name": "stdout",
     "output_type": "stream",
     "text": [
      "i1: 3\n"
     ]
    }
   ],
   "source": [
    "#      0  1  2  3  4   5   6   7   8   9\n",
    "arr = [2, 5, 6, 9, 10, 15, 18, 19, 23, 24]\n",
    "\n",
    "# find range: i1 and i2 with elements 7 < x < 20\n",
    "\n",
    "i1 = -1\n",
    "for i in range(len(arr)):\n",
    "    if arr[i] > 6:\n",
    "        i1 = i\n",
    "        break\n",
    "\n",
    "print(f'i1: {i1}')"
   ]
  },
  {
   "cell_type": "code",
   "execution_count": 68,
   "id": "2c05451d",
   "metadata": {},
   "outputs": [
    {
     "name": "stdout",
     "output_type": "stream",
     "text": [
      "arr[3]: 9\n",
      "i2: 0\n"
     ]
    }
   ],
   "source": [
    "#      0  1  2  3  4   5   6   7   8   9\n",
    "arr = [2, 5, 6, 9, 10, 15, 18, 19, 23, 24]\n",
    "\n",
    "# find range: i1 and i2 with elements 7 < x < 20\n",
    "\n",
    "i2 = -1\n",
    "for i in range(len(arr)):\n",
    "    if arr[i] > arr[i1]:\n",
    "        continue\n",
    "    i2 = i\n",
    "    break\n",
    "\n",
    "print(f'i2: {i2}')"
   ]
  },
  {
   "cell_type": "code",
   "execution_count": 77,
   "id": "3e6ad811",
   "metadata": {},
   "outputs": [
    {
     "name": "stdout",
     "output_type": "stream",
     "text": [
      "arr[3]: 9\n",
      "i: 3\n",
      "i: 4\n",
      "i: 5\n",
      "i: 6\n",
      "i: 7\n",
      "i: 8\n",
      "i2: 7\n"
     ]
    }
   ],
   "source": [
    "#      0  1  2  3  4   5   6   7   8   9\n",
    "arr = [2, 5, 6, 9, 10, 15, 18, 19, 23, 24]\n",
    "\n",
    "# find range: i1 and i2 with elements 7 < x < 20\n",
    "\n",
    "i2 = -1\n",
    "print(f'arr[{i1}]: {arr[i1]}')\n",
    "for i in range(i1, len(arr)):\n",
    "    print(f'i: {i}')\n",
    "    if arr[i] >= 20:\n",
    "        break\n",
    "    i2 = i\n",
    "\n",
    "print(f'i2: {i2}')"
   ]
  },
  {
   "cell_type": "code",
   "execution_count": 78,
   "id": "43e0c8df",
   "metadata": {},
   "outputs": [
    {
     "name": "stdout",
     "output_type": "stream",
     "text": [
      "i2: 7\n"
     ]
    }
   ],
   "source": [
    "#      0  1  2  3  4   5   6   7   8   9\n",
    "arr = [2, 5, 6, 9, 10, 15, 18, 19, 23, 24]\n",
    "\n",
    "# find range: i1 and i2 with elements 7 < x < 20\n",
    "\n",
    "i2 = -1\n",
    "for i in range(i1, len(arr)):\n",
    "    if arr[i] >= 20:\n",
    "        break\n",
    "    i2 = i\n",
    "\n",
    "print(f'i2: {i2}')"
   ]
  },
  {
   "cell_type": "code",
   "execution_count": 85,
   "id": "f2bc69d9",
   "metadata": {},
   "outputs": [
    {
     "name": "stdout",
     "output_type": "stream",
     "text": [
      "i1: 3\n",
      "i2: 7\n"
     ]
    }
   ],
   "source": [
    "#      0  1  2  3  4   5   6   7   8   9\n",
    "arr = [2, 5, 6, 9, 10, 15, 18, 19, 23, 24]\n",
    "\n",
    "# find range: i1 and i2 with elements 7 < x < 20\n",
    "\n",
    "i1 = -1\n",
    "for i in range(len(arr)):\n",
    "    if arr[i] <= 6:\n",
    "        continue\n",
    "    i1 = i\n",
    "    break\n",
    "\n",
    "print(f'i1: {i1}')\n",
    "\n",
    "i2 = -1\n",
    "for i in range(i1, len(arr)):\n",
    "    if arr[i] >= 20:\n",
    "        break\n",
    "    i2 = i\n",
    "\n",
    "print(f'i2: {i2}')"
   ]
  },
  {
   "cell_type": "markdown",
   "id": "d243f1a6",
   "metadata": {},
   "source": [
    "Python quiz"
   ]
  },
  {
   "cell_type": "code",
   "execution_count": 98,
   "id": "ab64889d",
   "metadata": {},
   "outputs": [
    {
     "name": "stdout",
     "output_type": "stream",
     "text": [
      "8\n"
     ]
    }
   ],
   "source": [
    "def add(var1, var2):\n",
    "    sum = var1, var2\n",
    "    print(sum)\n",
    "\n",
    "a = 3\n",
    "b = 5\n",
    "add(a, b)"
   ]
  },
  {
   "cell_type": "code",
   "execution_count": 99,
   "id": "57f4273c",
   "metadata": {},
   "outputs": [
    {
     "name": "stdout",
     "output_type": "stream",
     "text": [
      "0\n",
      "1\n",
      "2\n"
     ]
    }
   ],
   "source": [
    "#              stop   range always goes to stop-1\n",
    "for i in range(3):\n",
    "    print(i)"
   ]
  },
  {
   "cell_type": "code",
   "execution_count": 105,
   "id": "56eccc5a",
   "metadata": {},
   "outputs": [
    {
     "data": {
      "text/plain": [
       "10"
      ]
     },
     "execution_count": 105,
     "metadata": {},
     "output_type": "execute_result"
    }
   ],
   "source": [
    "def find_area(length, width):\n",
    "    area = length * width\n",
    "    return area\n",
    "\n",
    "length = 5\n",
    "width = 2\n",
    "find_area(length, width)"
   ]
  },
  {
   "cell_type": "code",
   "execution_count": 106,
   "id": "042d9124",
   "metadata": {},
   "outputs": [
    {
     "name": "stdout",
     "output_type": "stream",
     "text": [
      "9\n"
     ]
    }
   ],
   "source": [
    "number = 3\n",
    "square = number ** 2\n",
    "print(square)"
   ]
  },
  {
   "cell_type": "code",
   "execution_count": 106,
   "id": "3411a119",
   "metadata": {},
   "outputs": [
    {
     "name": "stdout",
     "output_type": "stream",
     "text": [
      "9\n"
     ]
    }
   ],
   "source": [
    "number = 3\n",
    "square = number ** 2\n",
    "print(square)"
   ]
  },
  {
   "cell_type": "code",
   "execution_count": 113,
   "id": "8c172ccc",
   "metadata": {},
   "outputs": [
    {
     "name": "stdout",
     "output_type": "stream",
     "text": [
      "Enter first number: 9\n",
      "Enter second number: 10\n"
     ]
    },
    {
     "data": {
      "text/plain": [
       "19"
      ]
     },
     "execution_count": 113,
     "metadata": {},
     "output_type": "execute_result"
    }
   ],
   "source": [
    "num1 = int(input('Enter first number: '))\n",
    "num2 = int(input('Enter second number: '))\n",
    "total = num1 + num2\n",
    "total"
   ]
  },
  {
   "cell_type": "code",
   "execution_count": 33,
   "id": "f1db2ae6",
   "metadata": {},
   "outputs": [
    {
     "name": "stdout",
     "output_type": "stream",
     "text": [
      "var1 before: a, var2 before: b\n",
      "var1 after: b, var2 after: a\n"
     ]
    }
   ],
   "source": [
    "var1 = 'a'\n",
    "var2 = 'b'\n",
    "print(f'var1 before: {var1}, var2 before: {var2}')\n",
    "var1, var2 = var2, var1\n",
    "print(f'var1 after: {var1}, var2 after: {var2}')"
   ]
  },
  {
   "cell_type": "code",
   "execution_count": 34,
   "id": "755f04bb",
   "metadata": {},
   "outputs": [
    {
     "name": "stdout",
     "output_type": "stream",
     "text": [
      "var1 after: d, var2 after: c\n"
     ]
    }
   ],
   "source": [
    "var1 = 'c'\n",
    "var2 = 'd'\n",
    "\n",
    "var_temp = var1\n",
    "var1 = var2\n",
    "var2 = var_temp\n",
    "print(f'var1 after: {var1}, var2 after: {var2}')"
   ]
  },
  {
   "cell_type": "code",
   "execution_count": 6,
   "id": "707e0380",
   "metadata": {},
   "outputs": [
    {
     "name": "stdout",
     "output_type": "stream",
     "text": [
      "24\n"
     ]
    }
   ],
   "source": [
    "# recursion factorial\n",
    "\n",
    "def factorial(n):\n",
    "    if n == 0:\n",
    "        return 1\n",
    "    \n",
    "    return n * factorial(n - 1)\n",
    "\n",
    "n = 4\n",
    "fact = factorial(n)\n",
    "print(fact)"
   ]
  },
  {
   "cell_type": "code",
   "execution_count": 30,
   "id": "dd3b36e4",
   "metadata": {},
   "outputs": [
    {
     "name": "stdout",
     "output_type": "stream",
     "text": [
      "24\n"
     ]
    }
   ],
   "source": [
    "# recursion factorial\n",
    "\n",
    "def factorial(n):\n",
    "    if n <= 0:\n",
    "        return 1\n",
    "    \n",
    "    return n * factorial(n - 1)\n",
    "\n",
    "n = 4\n",
    "fact = factorial(n)\n",
    "print(fact)"
   ]
  },
  {
   "cell_type": "code",
   "execution_count": 12,
   "id": "208c64bd",
   "metadata": {},
   "outputs": [
    {
     "name": "stdout",
     "output_type": "stream",
     "text": [
      "max: 24, min: 2\n"
     ]
    }
   ],
   "source": [
    "def max_min(lst):\n",
    "    maximum = lst[0]\n",
    "    minimum = lst[0]\n",
    "    \n",
    "    for num in lst:\n",
    "        if num < minimum:\n",
    "            minimum = num\n",
    "\n",
    "    for number in lst:\n",
    "        if number > maximum:\n",
    "            maximum = number\n",
    "    \n",
    "    return maximum, minimum\n",
    "\n",
    "arr = [2, 5, 6, 9, 10, 15, 18, 19, 23, 24]\n",
    "maximum, minimum = max_min(arr)\n",
    "print(f'max: {maximum}, min: {minimum}')"
   ]
  },
  {
   "cell_type": "code",
   "execution_count": 11,
   "id": "7a7a8b1d",
   "metadata": {},
   "outputs": [
    {
     "name": "stdout",
     "output_type": "stream",
     "text": [
      "25\n"
     ]
    }
   ],
   "source": [
    "number = 5\n",
    "square = number ** 2\n",
    "print(square)"
   ]
  },
  {
   "cell_type": "code",
   "execution_count": 16,
   "id": "cb4156ab",
   "metadata": {},
   "outputs": [
    {
     "name": "stdout",
     "output_type": "stream",
     "text": [
      "i: 2\n",
      "sum: 2\n",
      "i: 4\n",
      "sum: 6\n",
      "i: 6\n",
      "sum: 12\n",
      "i: 8\n",
      "sum: 20\n"
     ]
    },
    {
     "data": {
      "text/plain": [
       "20"
      ]
     },
     "execution_count": 16,
     "metadata": {},
     "output_type": "execute_result"
    }
   ],
   "source": [
    "def find_sum_evens(n):\n",
    "    sum_evens = 0\n",
    "    for i in range(2, n):\n",
    "        if i % 2 == 0:\n",
    "            sum_evens += i\n",
    "    \n",
    "    return sum_evens\n",
    "\n",
    "n = 10\n",
    "find_sum_evens(n)"
   ]
  },
  {
   "cell_type": "code",
   "execution_count": 20,
   "id": "325ac69a",
   "metadata": {},
   "outputs": [
    {
     "name": "stdout",
     "output_type": "stream",
     "text": [
      "define number of stars: 5\n",
      "\n",
      "*\n",
      "**\n",
      "***\n",
      "****\n"
     ]
    }
   ],
   "source": [
    "n = int(input('define number of stars: '))\n",
    "for i in range(n):\n",
    "    stars = i * '*'\n",
    "    print(stars)"
   ]
  },
  {
   "cell_type": "code",
   "execution_count": 23,
   "id": "cee0d607",
   "metadata": {},
   "outputs": [
    {
     "name": "stdout",
     "output_type": "stream",
     "text": [
      "provide a number: 5\n",
      "120\n"
     ]
    }
   ],
   "source": [
    "n = int(input('provide a number: '))\n",
    "factorial = 1\n",
    "for i in range(1, n + 1):\n",
    "    factorial *= i\n",
    "print(factorial)"
   ]
  },
  {
   "cell_type": "code",
   "execution_count": 2,
   "id": "543dd224",
   "metadata": {},
   "outputs": [
    {
     "name": "stdout",
     "output_type": "stream",
     "text": [
      "enter a number: 265\n",
      "type(n): <class 'str'>\n",
      "i: 0\n",
      "i: 1\n",
      "i: 2\n",
      "3\n"
     ]
    }
   ],
   "source": [
    "# sum of digits in a given number\n",
    "n = input('enter a number: ')\n",
    "print(f'type(n): {type(n)}')\n",
    "sum_digits = 0\n",
    "i = 0\n",
    "while i < len(n):\n",
    "    print(f'i: {i}')\n",
    "    sum_digits += i\n",
    "    i += 1\n",
    "print(sum_digits)"
   ]
  },
  {
   "cell_type": "code",
   "execution_count": 29,
   "id": "81b61697",
   "metadata": {},
   "outputs": [
    {
     "name": "stdout",
     "output_type": "stream",
     "text": [
      "enter a whole number: 265\n",
      "sum_digits: 13\n"
     ]
    }
   ],
   "source": [
    "# sum of digits in a given number\n",
    "n = input('enter a whole number: ')\n",
    "integers = []\n",
    "for chr in n:\n",
    "    chr_int = int(chr)\n",
    "    integers.append(chr_int)\n",
    "\n",
    "sum_digits = 0\n",
    "i = 0\n",
    "while i < len(integers):\n",
    "    sum_digits += integers[i]\n",
    "    i += 1\n",
    "print(f'sum_digits: {sum_digits}')"
   ]
  },
  {
   "cell_type": "code",
   "execution_count": 30,
   "id": "ca6ec82c",
   "metadata": {},
   "outputs": [
    {
     "name": "stdout",
     "output_type": "stream",
     "text": [
      "enter a whole number: 1987\n",
      "sum_digits: 25\n"
     ]
    }
   ],
   "source": [
    "# sum of digits in a given number\n",
    "n = input('enter a whole number: ')\n",
    "integers = []\n",
    "for chr in n:\n",
    "    integers.append(int(chr))\n",
    "\n",
    "sum_digits = 0\n",
    "i = 0\n",
    "while i < len(integers):\n",
    "    sum_digits += integers[i]\n",
    "    i += 1\n",
    "print(f'sum_digits: {sum_digits}')"
   ]
  },
  {
   "cell_type": "code",
   "execution_count": null,
   "id": "80be2cea",
   "metadata": {},
   "outputs": [],
   "source": [
    "# sum of digits in a given number - another way"
   ]
  },
  {
   "cell_type": "code",
   "execution_count": 15,
   "id": "fdd25a90",
   "metadata": {},
   "outputs": [
    {
     "name": "stdout",
     "output_type": "stream",
     "text": [
      "given_number: 198\n",
      "given_number: 7\n",
      "res: 198, digit: 7\n"
     ]
    }
   ],
   "source": [
    "given_number = 1987\n",
    "print(f'given_number: {given_number // 10}')\n",
    "print(f'given_number: {given_number % 10}')\n",
    "\n",
    "res = given_number // 10\n",
    "digit = given_number % 10\n",
    "print(f'res: {res}, digit: {digit}')"
   ]
  },
  {
   "cell_type": "code",
   "execution_count": 17,
   "id": "987369a9",
   "metadata": {},
   "outputs": [
    {
     "name": "stdout",
     "output_type": "stream",
     "text": [
      "digit: 7\n",
      "res_number: 198\n",
      "digit: 8\n",
      "res_number: 19\n",
      "digit: 9\n",
      "res_number: 1\n",
      "digit: 1\n",
      "res_number: 0\n"
     ]
    }
   ],
   "source": [
    "given_number = 1987\n",
    "\n",
    "digits = 0\n",
    "while given_number > 0:\n",
    "    digit = given_number % 10\n",
    "    res_number = given_number // 10\n",
    "    given_number = res_number\n",
    "    print(f'digit: {digit}')\n",
    "    print(f'res_number: {res_number}')"
   ]
  },
  {
   "cell_type": "code",
   "execution_count": 18,
   "id": "e315b00d",
   "metadata": {},
   "outputs": [
    {
     "name": "stdout",
     "output_type": "stream",
     "text": [
      "digit: 7\n",
      "res_number: 198\n",
      "digit: 8\n",
      "res_number: 19\n",
      "digit: 9\n",
      "res_number: 1\n",
      "digit: 1\n",
      "res_number: 0\n",
      "25\n"
     ]
    }
   ],
   "source": [
    "given_number = 1987\n",
    "\n",
    "sum_digits = 0\n",
    "while given_number > 0:\n",
    "    digit = given_number % 10\n",
    "    res_number = given_number // 10\n",
    "    given_number = res_number\n",
    "    sum_digits += digit\n",
    "    print(f'digit: {digit}')\n",
    "    print(f'res_number: {res_number}')\n",
    "print(digits)"
   ]
  },
  {
   "cell_type": "code",
   "execution_count": 21,
   "id": "89af2056",
   "metadata": {},
   "outputs": [
    {
     "name": "stdout",
     "output_type": "stream",
     "text": [
      "digit: 7\n",
      "given_number: 198\n",
      "digit: 8\n",
      "given_number: 19\n",
      "digit: 9\n",
      "given_number: 1\n",
      "digit: 1\n",
      "given_number: 0\n",
      "sum_digits: 25\n"
     ]
    }
   ],
   "source": [
    "given_number = 1987\n",
    "\n",
    "sum_digits = 0\n",
    "while given_number > 0:\n",
    "    digit = given_number % 10\n",
    "    given_number //= 10\n",
    "    sum_digits += digit\n",
    "    print(f'digit: {digit}')\n",
    "    print(f'given_number: {given_number}')\n",
    "\n",
    "print(f'sum_digits: {sum_digits}')"
   ]
  },
  {
   "cell_type": "code",
   "execution_count": 24,
   "id": "ca03c0e7",
   "metadata": {},
   "outputs": [
    {
     "data": {
      "text/plain": [
       "15"
      ]
     },
     "execution_count": 24,
     "metadata": {},
     "output_type": "execute_result"
    }
   ],
   "source": [
    "def calc_sum_digits(given_number):\n",
    "    sum_digits = 0\n",
    "    while given_number > 0:\n",
    "        digit = given_number % 10\n",
    "        given_number //= 10\n",
    "        sum_digits += digit\n",
    "\n",
    "    return sum_digits\n",
    "\n",
    "number = 762\n",
    "calc_sum_digits(number)"
   ]
  },
  {
   "cell_type": "code",
   "execution_count": 35,
   "id": "2157db2d",
   "metadata": {},
   "outputs": [
    {
     "data": {
      "text/plain": [
       "8"
      ]
     },
     "execution_count": 35,
     "metadata": {},
     "output_type": "execute_result"
    }
   ],
   "source": [
    "def fibonacci(n):\n",
    "    if n <= 1:\n",
    "        return 1\n",
    "\n",
    "    return fibonacci(n-1) + fibonacci(n-2)\n",
    "\n",
    "fibonacci(5)"
   ]
  },
  {
   "cell_type": "code",
   "execution_count": 33,
   "id": "75b9a9aa",
   "metadata": {},
   "outputs": [
    {
     "data": {
      "text/plain": [
       "[1, 1, 2, 3, 5]"
      ]
     },
     "execution_count": 33,
     "metadata": {},
     "output_type": "execute_result"
    }
   ],
   "source": [
    "def fibonacci_seq(n):\n",
    "    fibonacci_seq = []\n",
    "    for i in range(n):\n",
    "        fibonacci_num = fibonacci(i)\n",
    "        fibonacci_seq.append(fibonacci_num)\n",
    "    return fibonacci_seq\n",
    "\n",
    "def fibonacci(n):\n",
    "    if n <= 1:\n",
    "        return 1\n",
    "\n",
    "    return fibonacci(n-1) + fibonacci(n-2)\n",
    "\n",
    "fibonacci_seq(5)"
   ]
  },
  {
   "cell_type": "code",
   "execution_count": 35,
   "id": "d675e196",
   "metadata": {},
   "outputs": [
    {
     "data": {
      "text/plain": [
       "8"
      ]
     },
     "execution_count": 35,
     "metadata": {},
     "output_type": "execute_result"
    }
   ],
   "source": [
    "def fibonacci(n):\n",
    "    if n <= 1:\n",
    "        return 1\n",
    "\n",
    "    fib_dict = {0: 1, 1: 1}\n",
    "    if fibonacci(n-1) in fib_dict:\n",
    "        pass\n",
    "    return fibonacci(n-1) + fibonacci(n-2)\n",
    "\n",
    "fibonacci(5)"
   ]
  },
  {
   "cell_type": "code",
   "execution_count": 31,
   "id": "8fed3d0c",
   "metadata": {},
   "outputs": [
    {
     "name": "stdout",
     "output_type": "stream",
     "text": [
      "fib_dict: {0: 1, 1: 1}\n",
      "fib_dict: {0: 1, 1: 1}\n",
      "fib_dict: {0: 1, 1: 1, 3: 3}\n",
      "fib_dict: {0: 1, 1: 1}\n"
     ]
    },
    {
     "data": {
      "text/plain": [
       "3"
      ]
     },
     "execution_count": 31,
     "metadata": {},
     "output_type": "execute_result"
    }
   ],
   "source": [
    "def fibonacci(n):\n",
    "    if n <= 1:\n",
    "        return 1\n",
    "\n",
    "    fib_dict = {0: 1, 1: 1}\n",
    "    if fibonacci(n-1) in fib_dict:\n",
    "        pass\n",
    "    else:\n",
    "        fib_dict[n] = fibonacci(n-1) + fibonacci(n-2)\n",
    "    print(f'fib_dict: {fib_dict}')\n",
    "    return fibonacci(n-1) + fibonacci(n-2)\n",
    "\n",
    "fibonacci(3)"
   ]
  },
  {
   "cell_type": "code",
   "execution_count": 43,
   "id": "f6def8ea",
   "metadata": {},
   "outputs": [
    {
     "data": {
      "text/plain": [
       "[1, 1, 2, 3, 5, 8]"
      ]
     },
     "execution_count": 43,
     "metadata": {},
     "output_type": "execute_result"
    }
   ],
   "source": [
    "fib_dict = {0:1, 1:1}\n",
    "\n",
    "def fibonacci(n):\n",
    "    if n in fib_dict:\n",
    "        return fib_dict[n]\n",
    "    else:\n",
    "        fib_dict[n] = fibonacci(n-1) + fibonacci(n-2)\n",
    "    \n",
    "    return fibonacci(n-1) + fibonacci(n-2)\n",
    "\n",
    "[fibonacci(x) for x in range(6)]"
   ]
  },
  {
   "cell_type": "code",
   "execution_count": 48,
   "id": "7aeffff2",
   "metadata": {},
   "outputs": [
    {
     "name": "stdout",
     "output_type": "stream",
     "text": [
      "created fib_dict: {0: 1, 1: 1}\n"
     ]
    },
    {
     "data": {
      "text/plain": [
       "8"
      ]
     },
     "execution_count": 48,
     "metadata": {},
     "output_type": "execute_result"
    }
   ],
   "source": [
    "def fibonacci_outer(n):\n",
    "    fib_dict = {0:1, 1:1}\n",
    "    print(f'created fib_dict: {fib_dict}')\n",
    "\n",
    "    def fibonacci(n):\n",
    "        if n in fib_dict:\n",
    "            return fib_dict[n]\n",
    "        else:\n",
    "            fib_dict[n] = fibonacci(n-1) + fibonacci(n-2)\n",
    "\n",
    "        return fibonacci(n-1) + fibonacci(n-2)\n",
    "    \n",
    "    return fibonacci(n)\n",
    "\n",
    "fibonacci_outer(5)"
   ]
  },
  {
   "cell_type": "code",
   "execution_count": 55,
   "id": "19318cba",
   "metadata": {},
   "outputs": [
    {
     "name": "stdout",
     "output_type": "stream",
     "text": [
      "987\n",
      "8\n",
      "{0: 1, 1: 1, 2: 2, 3: 3, 4: 5, 5: 8, 6: 13, 7: 21, 8: 34, 9: 55, 10: 89, 11: 144, 12: 233, 13: 377, 14: 610, 15: 987}\n"
     ]
    }
   ],
   "source": [
    "class Fibonacci:\n",
    "    def __init__(self):\n",
    "        self.fib_dict = {0: 1, 1: 1}\n",
    "    \n",
    "    def fibonacci(self, n):\n",
    "        if n in self.fib_dict:\n",
    "            return self.fib_dict[n]\n",
    "        else:\n",
    "            self.fib_dict[n] = self.fibonacci(n-1) + self.fibonacci(n-2)\n",
    "\n",
    "        return self.fibonacci(n-1) + self.fibonacci(n-2)\n",
    "\n",
    "fib_obj = Fibonacci()  # create an instance (== object)\n",
    "print(fib_obj.fibonacci(15))  # call a method of the class Fibonacci\n",
    "print(fib_obj.fibonacci(5))\n",
    "\n",
    "print(fib_obj.fib_dict)"
   ]
  },
  {
   "cell_type": "code",
   "execution_count": 34,
   "id": "78b38f6e",
   "metadata": {},
   "outputs": [
    {
     "ename": "RecursionError",
     "evalue": "maximum recursion depth exceeded",
     "output_type": "error",
     "traceback": [
      "\u001b[1;31m---------------------------------------------------------------------------\u001b[0m",
      "\u001b[1;31mRecursionError\u001b[0m                            Traceback (most recent call last)",
      "Cell \u001b[1;32mIn[34], line 14\u001b[0m\n\u001b[0;32m     11\u001b[0m     \u001b[38;5;28;01mreturn\u001b[39;00m fibonacci(n\u001b[38;5;241m-\u001b[39m\u001b[38;5;241m1\u001b[39m) \u001b[38;5;241m+\u001b[39m fibonacci(n\u001b[38;5;241m-\u001b[39m\u001b[38;5;241m2\u001b[39m)\n\u001b[0;32m     13\u001b[0m fib_dict \u001b[38;5;241m=\u001b[39m {\u001b[38;5;241m0\u001b[39m:\u001b[38;5;241m1\u001b[39m, \u001b[38;5;241m1\u001b[39m:\u001b[38;5;241m1\u001b[39m}\n\u001b[1;32m---> 14\u001b[0m fibonacci(\u001b[38;5;241m3\u001b[39m)\n",
      "Cell \u001b[1;32mIn[34], line 6\u001b[0m, in \u001b[0;36mfibonacci\u001b[1;34m(n)\u001b[0m\n\u001b[0;32m      3\u001b[0m \u001b[38;5;28;01mif\u001b[39;00m n \u001b[38;5;241m<\u001b[39m\u001b[38;5;241m=\u001b[39m \u001b[38;5;241m1\u001b[39m:\n\u001b[0;32m      4\u001b[0m     \u001b[38;5;28;01mreturn\u001b[39;00m \u001b[38;5;241m1\u001b[39m\n\u001b[1;32m----> 6\u001b[0m \u001b[38;5;28;01mif\u001b[39;00m fibonacci(n) \u001b[38;5;129;01min\u001b[39;00m fib_dict:\n\u001b[0;32m      7\u001b[0m     \u001b[38;5;28;01mreturn\u001b[39;00m fib_dict[n]\n\u001b[0;32m      8\u001b[0m \u001b[38;5;28;01melse\u001b[39;00m:\n",
      "Cell \u001b[1;32mIn[34], line 6\u001b[0m, in \u001b[0;36mfibonacci\u001b[1;34m(n)\u001b[0m\n\u001b[0;32m      3\u001b[0m \u001b[38;5;28;01mif\u001b[39;00m n \u001b[38;5;241m<\u001b[39m\u001b[38;5;241m=\u001b[39m \u001b[38;5;241m1\u001b[39m:\n\u001b[0;32m      4\u001b[0m     \u001b[38;5;28;01mreturn\u001b[39;00m \u001b[38;5;241m1\u001b[39m\n\u001b[1;32m----> 6\u001b[0m \u001b[38;5;28;01mif\u001b[39;00m fibonacci(n) \u001b[38;5;129;01min\u001b[39;00m fib_dict:\n\u001b[0;32m      7\u001b[0m     \u001b[38;5;28;01mreturn\u001b[39;00m fib_dict[n]\n\u001b[0;32m      8\u001b[0m \u001b[38;5;28;01melse\u001b[39;00m:\n",
      "    \u001b[1;31m[... skipping similar frames: fibonacci at line 6 (2971 times)]\u001b[0m\n",
      "Cell \u001b[1;32mIn[34], line 6\u001b[0m, in \u001b[0;36mfibonacci\u001b[1;34m(n)\u001b[0m\n\u001b[0;32m      3\u001b[0m \u001b[38;5;28;01mif\u001b[39;00m n \u001b[38;5;241m<\u001b[39m\u001b[38;5;241m=\u001b[39m \u001b[38;5;241m1\u001b[39m:\n\u001b[0;32m      4\u001b[0m     \u001b[38;5;28;01mreturn\u001b[39;00m \u001b[38;5;241m1\u001b[39m\n\u001b[1;32m----> 6\u001b[0m \u001b[38;5;28;01mif\u001b[39;00m fibonacci(n) \u001b[38;5;129;01min\u001b[39;00m fib_dict:\n\u001b[0;32m      7\u001b[0m     \u001b[38;5;28;01mreturn\u001b[39;00m fib_dict[n]\n\u001b[0;32m      8\u001b[0m \u001b[38;5;28;01melse\u001b[39;00m:\n",
      "\u001b[1;31mRecursionError\u001b[0m: maximum recursion depth exceeded"
     ]
    }
   ],
   "source": [
    "def fibonacci(n):\n",
    "    # terminate recursion\n",
    "    if n <= 1:\n",
    "        return 1\n",
    "\n",
    "    if fibonacci(n) in fib_dict:\n",
    "        return fib_dict[n]\n",
    "    else:\n",
    "        fib_dict[n] = fibonacci(n-1) + fibonacci(n-2)\n",
    "    \n",
    "    return fibonacci(n-1) + fibonacci(n-2)\n",
    "\n",
    "fibonacci(3)"
   ]
  },
  {
   "cell_type": "code",
   "execution_count": 36,
   "id": "a62de41f",
   "metadata": {},
   "outputs": [
    {
     "name": "stdout",
     "output_type": "stream",
     "text": [
      "added n:c to d: c\n",
      "d after: {10: 'a', 20: 'b', 30: 'c'}\n"
     ]
    }
   ],
   "source": [
    "d = {10: 'a', 20: 'b'}\n",
    "n = 30\n",
    "if n in d:\n",
    "    print(f'd[{n}]: {d[n]}')\n",
    "else:\n",
    "    d[n] = 'c'\n",
    "    print(f'added n:c to d: {d[n]}')\n",
    "    \n",
    "print(f'd after: {d}')"
   ]
  },
  {
   "cell_type": "code",
   "execution_count": 22,
   "id": "89e6f033",
   "metadata": {},
   "outputs": [
    {
     "name": "stdout",
     "output_type": "stream",
     "text": [
      "7 x 1 = 7\n",
      "7 x 2 = 14\n",
      "7 x 3 = 21\n",
      "7 x 4 = 28\n",
      "7 x 5 = 35\n",
      "7 x 6 = 42\n",
      "7 x 7 = 49\n",
      "7 x 8 = 56\n",
      "7 x 9 = 63\n"
     ]
    }
   ],
   "source": [
    "def multiplication_table(n, nrows):\n",
    "    for i in range(1, nrows):\n",
    "        print(n, 'x', i, '=', n * i)\n",
    "\n",
    "n = 7\n",
    "nrows = 10\n",
    "multiplication_table(n, nrows)"
   ]
  },
  {
   "cell_type": "code",
   "execution_count": 21,
   "id": "2f57cfe7",
   "metadata": {},
   "outputs": [
    {
     "name": "stdout",
     "output_type": "stream",
     "text": [
      "enter a number for which to create multiplication table: 7\n",
      "enter the multiplication table limit: 9\n",
      "7 x 1 = 7\n",
      "7 x 2 = 14\n",
      "7 x 3 = 21\n",
      "7 x 4 = 28\n",
      "7 x 5 = 35\n",
      "7 x 6 = 42\n",
      "7 x 7 = 49\n",
      "7 x 8 = 56\n",
      "7 x 9 = 63\n"
     ]
    }
   ],
   "source": [
    "n = int(input('enter a number for which to create multiplication table: '))\n",
    "limit = int(input('enter the multiplication table limit: '))\n",
    "for i in range(1, limit + 1):\n",
    "    print(n, 'x', i, '=', n * i)"
   ]
  },
  {
   "cell_type": "code",
   "execution_count": 23,
   "id": "15f56c6a",
   "metadata": {},
   "outputs": [
    {
     "name": "stdout",
     "output_type": "stream",
     "text": [
      "enter a number (as integer) for which to create multiplication table: 7\n",
      "enter the number of rows (as integer) for the multiplication table: 10\n",
      "7 x 1 = 7\n",
      "7 x 2 = 14\n",
      "7 x 3 = 21\n",
      "7 x 4 = 28\n",
      "7 x 5 = 35\n",
      "7 x 6 = 42\n",
      "7 x 7 = 49\n",
      "7 x 8 = 56\n",
      "7 x 9 = 63\n"
     ]
    }
   ],
   "source": [
    "multiplier = int(input('enter a number (as integer) for which to create multiplication table: '))\n",
    "nrows = int(input('enter the number of rows (as integer) for the multiplication table: '))\n",
    "for i in range(1, nrows):\n",
    "    print(multiplier, 'x', i, '=', multiplier * i)"
   ]
  },
  {
   "cell_type": "code",
   "execution_count": 46,
   "id": "7075af67",
   "metadata": {},
   "outputs": [
    {
     "name": "stdout",
     "output_type": "stream",
     "text": [
      "iterating i from 2 to n: 2\n",
      "2\n",
      "iterating i from 2 to n: 3\n",
      "iterating i from 2 to n: 4\n",
      "iterating i from 2 to n: 5\n",
      "iterating i from 2 to n: 6\n",
      "iterating i from 2 to n: 7\n",
      "iterating i from 2 to n: 8\n",
      "iterating i from 2 to n: 9\n",
      "iterating i from 2 to n: 10\n",
      "iterating i from 2 to n: 11\n",
      "iterating i from 2 to n: 12\n",
      "iterating i from 2 to n: 13\n",
      "13\n",
      "iterating i from 2 to n: 14\n",
      "iterating i from 2 to n: 15\n",
      "iterating i from 2 to n: 16\n",
      "iterating i from 2 to n: 17\n",
      "iterating i from 2 to n: 18\n",
      "iterating i from 2 to n: 19\n",
      "iterating i from 2 to n: 20\n",
      "iterating i from 2 to n: 21\n",
      "iterating i from 2 to n: 22\n",
      "iterating i from 2 to n: 23\n",
      "iterating i from 2 to n: 24\n",
      "iterating i from 2 to n: 25\n"
     ]
    }
   ],
   "source": [
    "# primes\n",
    "\n",
    "def primes(n):\n",
    "    primes_list = []\n",
    "    for i in range(2, n):\n",
    "        print(f'iterating i from 2 to n: {i}')\n",
    "        if n % i == 0:\n",
    "            print(i)\n",
    "    # return primes_list\n",
    "\n",
    "n = 26\n",
    "primes(n)"
   ]
  },
  {
   "cell_type": "code",
   "execution_count": 59,
   "id": "775f618c",
   "metadata": {},
   "outputs": [
    {
     "data": {
      "text/plain": [
       "[3,\n",
       " 4,\n",
       " 5,\n",
       " 6,\n",
       " 7,\n",
       " 8,\n",
       " 9,\n",
       " 10,\n",
       " 11,\n",
       " 12,\n",
       " 14,\n",
       " 15,\n",
       " 16,\n",
       " 17,\n",
       " 18,\n",
       " 19,\n",
       " 20,\n",
       " 21,\n",
       " 22,\n",
       " 23,\n",
       " 24,\n",
       " 25]"
      ]
     },
     "execution_count": 59,
     "metadata": {},
     "output_type": "execute_result"
    }
   ],
   "source": [
    "# primes\n",
    "\n",
    "def primes(n):\n",
    "    primes_list = []\n",
    "    for i in range(1, n+1):\n",
    "        # print(f'iterating i from 2 to n: {i}')\n",
    "        if n % i == 0:\n",
    "            continue\n",
    "        primes_list.append(i)\n",
    "    return primes_list\n",
    "\n",
    "n = 26\n",
    "primes(n)"
   ]
  },
  {
   "cell_type": "code",
   "execution_count": 9,
   "id": "dff7750b",
   "metadata": {},
   "outputs": [
    {
     "name": "stdout",
     "output_type": "stream",
     "text": [
      "[1, 2, 3, 4, 5, 6, 7, 8, 9, 10, 11, 12, 13, 14, 15, 16, 17, 18, 19, 20, 21, 22, 23, 24, 25]\n"
     ]
    }
   ],
   "source": [
    "n = 26\n",
    "primes = []\n",
    "for number in range(1, n):\n",
    "    # print(number)  # iterates over the numbers we want it to\n",
    "    for i in range(2, number):\n",
    "        if number % i == 0:  # not prime\n",
    "            # print(f'number: {number}, i: {i}, number%i: {number % i}')\n",
    "            continue\n",
    "    primes.append(number)  # I'm here if all i's for the current number are prime\n",
    "\n",
    "print(primes)"
   ]
  },
  {
   "cell_type": "code",
   "execution_count": 8,
   "id": "cc761178",
   "metadata": {},
   "outputs": [
    {
     "data": {
      "text/plain": [
       "[1, 2, 3, 5, 7, 11, 13, 17, 19, 23]"
      ]
     },
     "execution_count": 8,
     "metadata": {},
     "output_type": "execute_result"
    }
   ],
   "source": [
    "# solution: figure out why we were getting non-primes with one function algorithms\n",
    "\n",
    "def is_prime(n):\n",
    "    for i in range(2, n-1):\n",
    "        if n % i == 0:\n",
    "            return False\n",
    "    return True\n",
    "\n",
    "def primes(n):\n",
    "    primes = []\n",
    "    for i in range(1, n):\n",
    "        if is_prime(i):\n",
    "            primes.append(i)\n",
    "    return primes\n",
    "\n",
    "primes(26)"
   ]
  },
  {
   "cell_type": "code",
   "execution_count": 58,
   "id": "020edfe5",
   "metadata": {},
   "outputs": [
    {
     "name": "stdout",
     "output_type": "stream",
     "text": [
      "enter real part of a: 3\n",
      "enter imaginary part of a: 5\n",
      "enter real part of b: 7\n",
      "enter imaginary part of b: 9\n",
      "(10+14j)\n"
     ]
    }
   ],
   "source": [
    "a = complex(int(input('enter real part of a: ')), int(input('enter imaginary part of a: ')))\n",
    "b = complex(int(input('enter real part of b: ')), int(input('enter imaginary part of b: ')))\n",
    "tot = a + b\n",
    "print(tot)"
   ]
  },
  {
   "cell_type": "code",
   "execution_count": 2,
   "id": "0db297cd",
   "metadata": {},
   "outputs": [
    {
     "name": "stdout",
     "output_type": "stream",
     "text": [
      "a before: 5, b before: 7\n",
      "a after: 7, b after: 5\n",
      "a_string before: abcd, b_string before: efgh\n",
      "alist before: [5, 7], blist before: [6, 8]\n"
     ]
    }
   ],
   "source": [
    "a = 5\n",
    "b = 7\n",
    "print(f'a before: {a}, b before: {b}')\n",
    "\n",
    "a = a + b\n",
    "b = a - b\n",
    "a = a - b\n",
    "print(f'a after: {a}, b after: {b}')\n",
    "\n",
    "a_string = 'abcd'\n",
    "b_string = 'efgh'\n",
    "print(f'a_string before: {a_string}, b_string before: {b_string}')\n",
    "\n",
    "a_string = a_string + b_string\n",
    "# b_string = a_string - b_string  # returns error\n",
    "# a_string = a_string - b_string\n",
    "# print(f'a_string after: {a_string}, b_string after: {b_string}')\n",
    "\n",
    "alist = [5, 7]\n",
    "blist = [6, 8]\n",
    "print(f'alist before: {alist}, blist before: {blist}')\n",
    "\n",
    "# alist = alist + blist\n",
    "# blist = alist - blist\n",
    "# alist = alist - blist\n",
    "# print(f'alist after: {alist}, blist after: {blist}')"
   ]
  },
  {
   "cell_type": "code",
   "execution_count": 63,
   "id": "8772ee67",
   "metadata": {},
   "outputs": [
    {
     "name": "stdout",
     "output_type": "stream",
     "text": [
      "[6, 8] [5, 7]\n"
     ]
    }
   ],
   "source": [
    "alist = [5, 7]\n",
    "blist = [6, 8]\n",
    "alist, blist = blist, alist\n",
    "print(alist, blist)"
   ]
  },
  {
   "cell_type": "code",
   "execution_count": 65,
   "id": "953b4f2d",
   "metadata": {},
   "outputs": [
    {
     "name": "stdout",
     "output_type": "stream",
     "text": [
      "False\n"
     ]
    },
    {
     "data": {
      "text/plain": [
       "True"
      ]
     },
     "execution_count": 65,
     "metadata": {},
     "output_type": "execute_result"
    }
   ],
   "source": [
    "print(5 == '5')\n",
    "5 != '5'"
   ]
  },
  {
   "cell_type": "code",
   "execution_count": 1,
   "id": "470e3dab",
   "metadata": {},
   "outputs": [
    {
     "name": "stdout",
     "output_type": "stream",
     "text": [
      "primes: [1, 2, 3, 5, 7, 9, 11, 15, 17, 19, 21, 23, 25]\n"
     ]
    }
   ],
   "source": [
    "n = 26\n",
    "primes = [1, 2]\n",
    "\n",
    "for i in range(3, n, 2):\n",
    "    if n % i != 0:\n",
    "        # check if i is divisible by any number in primes list\n",
    "        result = n // i\n",
    "        for iresult in primes:\n",
    "            if result % iresult == 0:\n",
    "                break\n",
    "        # result is not divisible by any number in primes list\n",
    "        primes.append(i)\n",
    "\n",
    "print(f'primes: {primes}')"
   ]
  },
  {
   "cell_type": "code",
   "execution_count": 7,
   "id": "d70372cc",
   "metadata": {},
   "outputs": [
    {
     "name": "stdout",
     "output_type": "stream",
     "text": [
      "result: 8, iresult: 2 result%iresult: 0\n",
      "result: 3, iresult: 3 result%iresult: 0\n",
      "result: 2, iresult: 2 result%iresult: 0\n",
      "result: 2, iresult: 2 result%iresult: 0\n",
      "primes: [1, 2, 3, 5, 7, 9, 11, 15, 17, 19, 21, 23, 25]\n"
     ]
    }
   ],
   "source": [
    "n = 26\n",
    "primes = [1, 2]\n",
    "\n",
    "for i in range(3, n, 2):\n",
    "    if n % i != 0:\n",
    "        # check if i is divisible by any number in primes list\n",
    "        result = n // i\n",
    "        for iresult in primes[1:]:\n",
    "            if result % iresult == 0:\n",
    "                print(f'result: {result}, iresult: {iresult} result%iresult: {result % iresult}')\n",
    "                break\n",
    "        # result is not divisible by any number in primes list\n",
    "        primes.append(i)\n",
    "\n",
    "print(f'primes: {primes}')"
   ]
  },
  {
   "cell_type": "code",
   "execution_count": 9,
   "id": "1e293550",
   "metadata": {},
   "outputs": [
    {
     "name": "stdout",
     "output_type": "stream",
     "text": [
      "primes: [1, 2, 3, 5, 7, 11, 13, 17, 19, 23]\n"
     ]
    }
   ],
   "source": [
    "N = 26\n",
    "primes = [1, 2]\n",
    "\n",
    "for n in range(3, N):\n",
    "    # check if n is prime\n",
    "    n_prime = True\n",
    "    for i in range(2, n):\n",
    "        if n % i == 0:\n",
    "            n_prime = False\n",
    "            break\n",
    "    \n",
    "    if n_prime:\n",
    "        primes.append(n)\n",
    "\n",
    "print(f'primes: {primes}')"
   ]
  },
  {
   "cell_type": "code",
   "execution_count": 10,
   "id": "d73094bb",
   "metadata": {},
   "outputs": [
    {
     "name": "stdout",
     "output_type": "stream",
     "text": [
      "primes: [1, 2, 3, 5, 7, 11, 13, 17, 19, 23]\n"
     ]
    }
   ],
   "source": [
    "# primes from 1 to N another way\n",
    "\n",
    "def find_primes(N):\n",
    "    primes = [1, 2]\n",
    "\n",
    "    for n in range(3, N):\n",
    "        # check if n is prime\n",
    "        n_prime = True\n",
    "        for i in range(2, n):\n",
    "            if n % i == 0:\n",
    "                n_prime = False\n",
    "                break\n",
    "\n",
    "        if n_prime:\n",
    "            primes.append(n)\n",
    "\n",
    "    return primes\n",
    "\n",
    "n = 28\n",
    "primes = find_primes(n)\n",
    "print(f'primes: {primes}')"
   ]
  }
 ],
 "metadata": {
  "kernelspec": {
   "display_name": "Python 3 (ipykernel)",
   "language": "python",
   "name": "python3"
  },
  "language_info": {
   "codemirror_mode": {
    "name": "ipython",
    "version": 3
   },
   "file_extension": ".py",
   "mimetype": "text/x-python",
   "name": "python",
   "nbconvert_exporter": "python",
   "pygments_lexer": "ipython3",
   "version": "3.11.4"
  }
 },
 "nbformat": 4,
 "nbformat_minor": 5
}
