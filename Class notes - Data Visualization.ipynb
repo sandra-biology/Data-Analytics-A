{
 "cells": [
  {
   "cell_type": "markdown",
   "id": "50f46266",
   "metadata": {},
   "source": [
    "### Introduction to data visualization\n",
    "- data visualization is representation of data through use of charts, plots, infographics, animations\n",
    "- principles\n",
    "    - maximize data-ink ratio\n",
    "    - use appropriate scales and axes\n",
    "    - choose the right visualization type"
   ]
  },
  {
   "cell_type": "markdown",
   "id": "cf5f0285",
   "metadata": {},
   "source": [
    "### Data cleaning\n",
    "- remove duplicates\n",
    "    - filter: one or two employees/entries\n",
    "    - highlight column -> highlight calls rules -> duplicates\n",
    "    - select entire table -> data -> remove duplicates\n",
    "        - save a copy of the data before removing duplicates\n",
    "    - removing duplicates automatically selects first entry as the entry to keep if we don't do sorting, but that entry might not be the answer we're looking for\n",
    "        - safe route is to always sort first\n",
    "- unique identifier: very specific identifier, usually a numeric code that differentiates one row from another\n",
    "- concatenation: combining two or more fields\n",
    "    - use =concat(columns)\n",
    "    - =concat(column1, \" \", column2) gets us back to original format\n",
    "- vlookup allows us to look up values in another table and return value of another column in that second table\n",
    "    - =vlookup(value we're looking for, table we're looking in, column we need to return, FALSE)\n",
    "    - dates and number will need to be reformatted"
   ]
  },
  {
   "cell_type": "markdown",
   "id": "402ab49b",
   "metadata": {},
   "source": [
    "### Data visualization in Excel\n",
    "- change type for zip codes to text (Excel has them as numbers by default)"
   ]
  },
  {
   "cell_type": "markdown",
   "id": "8dc59901",
   "metadata": {},
   "source": [
    "### Tableau\n",
    "- Tableau is industry standard in data visualization\n",
    "    - versatility\n",
    "    - integration with multiple data sources\n",
    "        - usually integrated with databases\n",
    "    - interactive graphs are usually made in Tableau\n",
    "- why use Tableau\n",
    "    - blend different types of data in real time\n",
    "    - expansive onlien community and support\n",
    "- union connects two spreadsheets via a commonality\n",
    "    - similar to join in SQL\n",
    "- marks are aesthetic changes to your graphics\n",
    "- dimensions are qualitative data\n",
    "- measures are quantitative data\n",
    "- dashboard allows you to see multiple sheets side by side\n",
    "    - format on each sheet itself\n",
    "- union\n",
    "    - open Excel workbooks we need, drag one over to create a union\n",
    "    - if one sheet is removed, the union is severed\n",
    "- join in Tableau has a greater degree of connection \n",
    "    - works with two sheets\n",
    "        - open spreadsheets\n",
    "        - drag one over to create union\n",
    "        - double click on one spreadsheet to create join\n",
    "    - join puts both tables/spreadsheets into one sheet\n",
    "    - if the Excel workbook has two spreadsheets, they come in as two separate sheets\n",
    "        - can do union/join or relationship just like they were two separate files\n",
    "- story (add story using story tab)\n",
    "    - can create story based on sheets\n",
    "        - right click on axis allows us to adjust where it starts\n",
    "    - can create story from dashboards\n",
    "- calculated field\n",
    "    - allows us to do sums/add columns together\n",
    "        - in data, check the fields/columns we want to add together\n",
    "        - analysis -> create calculated field\n",
    "- example: calculating age from hire date and DOB\n",
    "    - Excel:\n",
    "        - =(hire date - DOB)/365\n",
    "        - in another column use rounddown(column value, 0)"
   ]
  }
 ],
 "metadata": {
  "kernelspec": {
   "display_name": "Python 3 (ipykernel)",
   "language": "python",
   "name": "python3"
  },
  "language_info": {
   "codemirror_mode": {
    "name": "ipython",
    "version": 3
   },
   "file_extension": ".py",
   "mimetype": "text/x-python",
   "name": "python",
   "nbconvert_exporter": "python",
   "pygments_lexer": "ipython3",
   "version": "3.9.12"
  }
 },
 "nbformat": 4,
 "nbformat_minor": 5
}
