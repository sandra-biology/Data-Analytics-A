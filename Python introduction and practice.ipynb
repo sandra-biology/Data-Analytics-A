{
 "cells": [
  {
   "cell_type": "code",
   "execution_count": 1,
   "id": "f1e457ca",
   "metadata": {},
   "outputs": [
    {
     "name": "stdout",
     "output_type": "stream",
     "text": [
      "john\n"
     ]
    }
   ],
   "source": [
    "# mentioning the name of the person\n",
    "a = 'john'\n",
    "print(a)"
   ]
  },
  {
   "cell_type": "code",
   "execution_count": 2,
   "id": "011d8d18",
   "metadata": {},
   "outputs": [
    {
     "name": "stdout",
     "output_type": "stream",
     "text": [
      "sum: 1368\n"
     ]
    }
   ],
   "source": [
    "sum = 123 +\\\n",
    "    456 +\\\n",
    "    789\n",
    "print(f'sum: {sum}')"
   ]
  },
  {
   "cell_type": "code",
   "execution_count": 7,
   "id": "80c9f917",
   "metadata": {},
   "outputs": [
    {
     "name": "stdout",
     "output_type": "stream",
     "text": [
      "a: 10\n",
      "5\n",
      "20\n"
     ]
    }
   ],
   "source": [
    "a = 10\n",
    "b = 5\n",
    "c = 20\n",
    "if a > 1 or b > 0 or c > 0:\n",
    "    print(f'a: {a}')\n",
    "    print(b)\n",
    "    print(c)"
   ]
  },
  {
   "cell_type": "code",
   "execution_count": 8,
   "id": "fded8324",
   "metadata": {},
   "outputs": [
    {
     "name": "stdout",
     "output_type": "stream",
     "text": [
      "we\"re inside block\n"
     ]
    }
   ],
   "source": [
    "if True:\n",
    "    print(f'we\"re inside block')"
   ]
  },
  {
   "cell_type": "code",
   "execution_count": 5,
   "id": "66367d88",
   "metadata": {},
   "outputs": [
    {
     "ename": "SyntaxError",
     "evalue": "invalid syntax. Perhaps you forgot a comma? (3358620256.py, line 2)",
     "output_type": "error",
     "traceback": [
      "\u001b[1;36m  Cell \u001b[1;32mIn[5], line 2\u001b[1;36m\u001b[0m\n\u001b[1;33m    print(f'we're inside the block)\u001b[0m\n\u001b[1;37m          ^\u001b[0m\n\u001b[1;31mSyntaxError\u001b[0m\u001b[1;31m:\u001b[0m invalid syntax. Perhaps you forgot a comma?\n"
     ]
    }
   ],
   "source": [
    "if True:\n",
    "    print(f'we're inside the block)"
   ]
  },
  {
   "cell_type": "code",
   "execution_count": 19,
   "id": "a5ed2bd5",
   "metadata": {},
   "outputs": [
    {
     "ename": "TypeError",
     "evalue": "set expected at most 1 argument, got 5",
     "output_type": "error",
     "traceback": [
      "\u001b[1;31m---------------------------------------------------------------------------\u001b[0m",
      "\u001b[1;31mTypeError\u001b[0m                                 Traceback (most recent call last)",
      "Cell \u001b[1;32mIn[19], line 1\u001b[0m\n\u001b[1;32m----> 1\u001b[0m a \u001b[38;5;241m=\u001b[39m \u001b[38;5;28mset\u001b[39m(\u001b[38;5;241m5\u001b[39m, \u001b[38;5;241m2\u001b[39m, \u001b[38;5;241m3\u001b[39m, \u001b[38;5;241m1\u001b[39m, \u001b[38;5;241m4\u001b[39m)\n\u001b[0;32m      2\u001b[0m \u001b[38;5;28mprint\u001b[39m(\u001b[38;5;124mf\u001b[39m\u001b[38;5;124m'\u001b[39m\u001b[38;5;124ma: \u001b[39m\u001b[38;5;132;01m{\u001b[39;00ma\u001b[38;5;132;01m}\u001b[39;00m\u001b[38;5;124m, type(a): \u001b[39m\u001b[38;5;132;01m{\u001b[39;00m\u001b[38;5;28mtype\u001b[39m(a)\u001b[38;5;132;01m}\u001b[39;00m\u001b[38;5;124m'\u001b[39m)\n",
      "\u001b[1;31mTypeError\u001b[0m: set expected at most 1 argument, got 5"
     ]
    }
   ],
   "source": [
    "a = set(5, 2, 3, 1, 4)\n",
    "print(f'a: {a}, type(a): {type(a)}')"
   ]
  },
  {
   "cell_type": "code",
   "execution_count": 10,
   "id": "47db2891",
   "metadata": {},
   "outputs": [
    {
     "name": "stdout",
     "output_type": "stream",
     "text": [
      "char_list[0] before modifying: a\n"
     ]
    }
   ],
   "source": [
    "char_list = ['a', 'b', 'c', 'd']\n",
    "print(f'char_list[0] before modifying: {char_list[0]}')"
   ]
  },
  {
   "cell_type": "code",
   "execution_count": 14,
   "id": "294c5f4e",
   "metadata": {},
   "outputs": [
    {
     "name": "stdout",
     "output_type": "stream",
     "text": [
      "string before: abcd\n",
      "string after: ebcd\n"
     ]
    }
   ],
   "source": [
    "string = 'abcd'\n",
    "print(f'string before: {string}')\n",
    "\n",
    "string = 'ebcd'\n",
    "print(f'string after: {string}')"
   ]
  },
  {
   "cell_type": "code",
   "execution_count": 16,
   "id": "e777403c",
   "metadata": {},
   "outputs": [
    {
     "name": "stdout",
     "output_type": "stream",
     "text": [
      "printing tuple t: (1, 2, 3)\n"
     ]
    }
   ],
   "source": [
    "t = (1, 2, 3)\n",
    "print(f'printing tuple t: {t}')"
   ]
  },
  {
   "cell_type": "code",
   "execution_count": 18,
   "id": "ee94caf6",
   "metadata": {},
   "outputs": [
    {
     "name": "stdout",
     "output_type": "stream",
     "text": [
      "a: {1, 2, 3, 4, 5}, type(a): <class 'set'>\n"
     ]
    }
   ],
   "source": [
    "a = {5, 2, 3, 1, 4}\n",
    "print(f'a: {a}, type(a): {type(a)}')"
   ]
  },
  {
   "cell_type": "code",
   "execution_count": 20,
   "id": "c9867774",
   "metadata": {},
   "outputs": [
    {
     "data": {
      "text/plain": [
       "85"
      ]
     },
     "execution_count": 20,
     "metadata": {},
     "output_type": "execute_result"
    }
   ],
   "source": [
    "student_scores = {'Alice': 85, 'Bob': 80, 'Charlie': 92, 'David': 70}\n",
    "student_scores['Alice']"
   ]
  },
  {
   "cell_type": "code",
   "execution_count": 23,
   "id": "0023dd84",
   "metadata": {},
   "outputs": [
    {
     "name": "stdout",
     "output_type": "stream",
     "text": [
      "student name: Alice\n"
     ]
    }
   ],
   "source": [
    "student_scores = {'Alice': 85, 'Bob': 80, 'Charlie': 92, 'David': 70}\n",
    "student_scores['Alice']\n",
    "\n",
    "for k, v in student_scores.items():\n",
    "    if v == 85:\n",
    "        print(f'student name: {k}')"
   ]
  },
  {
   "cell_type": "code",
   "execution_count": 24,
   "id": "f04f6a3b",
   "metadata": {},
   "outputs": [
    {
     "data": {
      "text/plain": [
       "tuple"
      ]
     },
     "execution_count": 24,
     "metadata": {},
     "output_type": "execute_result"
    }
   ],
   "source": [
    "num = 1,00,000\n",
    "type(num)"
   ]
  },
  {
   "cell_type": "code",
   "execution_count": 25,
   "id": "2a730605",
   "metadata": {},
   "outputs": [
    {
     "name": "stdout",
     "output_type": "stream",
     "text": [
      "(1, 0, 0)\n"
     ]
    }
   ],
   "source": [
    "num = 1,00,000\n",
    "print(num)"
   ]
  },
  {
   "cell_type": "code",
   "execution_count": 26,
   "id": "ad7c58e4",
   "metadata": {},
   "outputs": [
    {
     "data": {
      "text/plain": [
       "100000"
      ]
     },
     "execution_count": 26,
     "metadata": {},
     "output_type": "execute_result"
    }
   ],
   "source": [
    "1_00_000"
   ]
  }
 ],
 "metadata": {
  "kernelspec": {
   "display_name": "Python 3 (ipykernel)",
   "language": "python",
   "name": "python3"
  },
  "language_info": {
   "codemirror_mode": {
    "name": "ipython",
    "version": 3
   },
   "file_extension": ".py",
   "mimetype": "text/x-python",
   "name": "python",
   "nbconvert_exporter": "python",
   "pygments_lexer": "ipython3",
   "version": "3.11.4"
  }
 },
 "nbformat": 4,
 "nbformat_minor": 5
}
