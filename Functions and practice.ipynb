{
 "cells": [
  {
   "cell_type": "code",
   "execution_count": 2,
   "id": "f79ec6e0",
   "metadata": {},
   "outputs": [
    {
     "name": "stdout",
     "output_type": "stream",
     "text": [
      "first number after n: 3\n",
      "3\n"
     ]
    }
   ],
   "source": [
    "def fib_sequence(n):\n",
    "    \"\"\"Generates the next fibonacci number after n. n should be greater than or equal to 0.\"\"\"\n",
    "    sequence = [0, 1]\n",
    "    for number in range(n+1):\n",
    "        fib_num = fibonacci(n)\n",
    "    sequence.append(fib_num)\n",
    "    return sequence[-1]\n",
    "\n",
    "def fibonacci(n):\n",
    "    if n <= 1:\n",
    "        return 1\n",
    "    \n",
    "    return fibonacci(n-1) + fibonacci(n-2)\n",
    "\n",
    "n = 3\n",
    "#             0  1  2  3  4  5  6\n",
    "# sequence = [0, 1, 1, 2, 3, 5, 8]\n",
    "fibonacci_number = fib_sequence(n)\n",
    "print(f'first number after n: {fibonacci_number}')\n",
    "print(fibonacci(3))"
   ]
  },
  {
   "cell_type": "code",
   "execution_count": 8,
   "id": "83691bae",
   "metadata": {},
   "outputs": [
    {
     "name": "stdout",
     "output_type": "stream",
     "text": [
      "6 is present in the list\n"
     ]
    }
   ],
   "source": [
    "# simple search of a number in a list\n",
    "n = 6\n",
    "lst = [6, 7, 8, 9, 10]\n",
    "\n",
    "for number in lst:\n",
    "    if number == n:\n",
    "        print(f'{n} is present in the list')\n",
    "        break\n",
    "else:\n",
    "    print('number not found in the list')"
   ]
  },
  {
   "cell_type": "code",
   "execution_count": 14,
   "id": "41c5a06a",
   "metadata": {},
   "outputs": [
    {
     "name": "stdout",
     "output_type": "stream",
     "text": [
      "enter number to find: 11\n",
      "number not found in the list\n"
     ]
    }
   ],
   "source": [
    "# simple search of a number in a list\n",
    "n = int(input('enter number to find: '))\n",
    "lst = [6, 7, 8, 9, 10]\n",
    "\n",
    "for number in lst:\n",
    "    if number == n:\n",
    "        print(f'{n} is present in the list')\n",
    "        break\n",
    "else:\n",
    "    print('number not found in the list')"
   ]
  },
  {
   "cell_type": "code",
   "execution_count": 19,
   "id": "9ae8cbde",
   "metadata": {},
   "outputs": [
    {
     "data": {
      "text/plain": [
       "True"
      ]
     },
     "execution_count": 19,
     "metadata": {},
     "output_type": "execute_result"
    }
   ],
   "source": [
    "s = 'abcd'\n",
    "s[0] < s[1]"
   ]
  },
  {
   "cell_type": "code",
   "execution_count": 1,
   "id": "b2470d2d",
   "metadata": {},
   "outputs": [
    {
     "name": "stdout",
     "output_type": "stream",
     "text": [
      "mytuple original: (5, 4, 2, 3, 1)\n",
      "mytuple sorted: [1, 2, 3, 4, 5]\n"
     ]
    }
   ],
   "source": [
    "mytuple = (5, 4, 2, 3, 1)\n",
    "print(f'mytuple original: {mytuple}')\n",
    "mytuple_sorted = sorted(mytuple)\n",
    "print(f'mytuple sorted: {mytuple_sorted}')"
   ]
  },
  {
   "cell_type": "code",
   "execution_count": 2,
   "id": "f06666bd",
   "metadata": {},
   "outputs": [
    {
     "name": "stdout",
     "output_type": "stream",
     "text": [
      "mydict original: {5: 'e', 4: 'd', 2: 'b', 3: 'c', 1: 'a'}\n",
      "mydict sorted: [1, 2, 3, 4, 5]\n"
     ]
    }
   ],
   "source": [
    "mydict = {5: 'e', 4: 'd', 2: 'b', 3: 'c', 1: 'a'}\n",
    "print(f'mydict original: {mydict}')\n",
    "mydict_sorted = sorted(mydict)\n",
    "print(f'mydict sorted: {mydict_sorted}')"
   ]
  },
  {
   "cell_type": "code",
   "execution_count": 3,
   "id": "bbc580aa",
   "metadata": {},
   "outputs": [
    {
     "name": "stdout",
     "output_type": "stream",
     "text": [
      "mystring original: edbca\n",
      "mystring sorted: ['a', 'b', 'c', 'd', 'e']\n"
     ]
    }
   ],
   "source": [
    "mystring = 'edbca'\n",
    "print(f'mystring original: {mystring}')\n",
    "mystring_sorted = sorted(mystring)\n",
    "print(f'mystring sorted: {mystring_sorted}')"
   ]
  },
  {
   "cell_type": "code",
   "execution_count": 5,
   "id": "9a7dd3d0",
   "metadata": {},
   "outputs": [
    {
     "name": "stdout",
     "output_type": "stream",
     "text": [
      "i: 0\n",
      "i: 1\n",
      "i: 2\n",
      "i: 3\n",
      "i: 4\n",
      "i: 5\n",
      "i: 6\n",
      "Sorted array is: [11, 12, 22, 25, 34, 64, 90]\n"
     ]
    }
   ],
   "source": [
    "def bubble_sort(arr):\n",
    "    n = len(arr)\n",
    "    \n",
    "    # Traverse through all elements of the array\n",
    "    for i in range(n):\n",
    "        print(f'i: {i}')\n",
    "        # Last i elements are already in place, so we don't need to check them again\n",
    "        for j in range(0, n - i - 1):\n",
    "            # Compare adjacent elements\n",
    "            if arr[j] > arr[j + 1]:\n",
    "                # Swap the elements using a temporary variable\n",
    "                temp = arr[j]\n",
    "                arr[j] = arr[j + 1]\n",
    "                arr[j + 1] = temp\n",
    "\n",
    "# Example:\n",
    "#      0   1   2   3\n",
    "arr = [64, 34, 25, 12, 22, 11, 90]\n",
    "bubble_sort(arr)\n",
    "print(\"Sorted array is:\", arr)"
   ]
  },
  {
   "cell_type": "code",
   "execution_count": 6,
   "id": "02cf0af8",
   "metadata": {},
   "outputs": [
    {
     "name": "stdout",
     "output_type": "stream",
     "text": [
      "i: 0\n",
      "i: 1\n",
      "i: 2\n",
      "i: 3\n",
      "i: 4\n",
      "i: 5\n",
      "i: 6\n",
      "Sorted array is: [11, 12, 22, 25, 34, 64, 90]\n"
     ]
    }
   ],
   "source": [
    "def bubble_sort(arr):\n",
    "    n = len(arr)\n",
    "    \n",
    "    # Traverse through all elements of the array\n",
    "    for i in range(n):\n",
    "        print(f'i: {i}')\n",
    "        # Last i elements are already in place, so we don't need to check them again\n",
    "        for j in range(0, n - i - 1):\n",
    "            # Compare adjacent elements\n",
    "            if arr[j] > arr[j + 1]:\n",
    "                # Swap the elements using a temporary variable\n",
    "                temp = arr[j]\n",
    "                arr[j] = arr[j + 1]\n",
    "                arr[j + 1] = temp\n",
    "\n",
    "# Example:\n",
    "#      0   1   2   3\n",
    "# arr = [64, 34, 25, 12, 22, 11, 90]\n",
    "arr = [11, 12, 22, 25, 34, 64, 90]\n",
    "bubble_sort(arr)\n",
    "print(\"Sorted array is:\", arr)"
   ]
  },
  {
   "cell_type": "code",
   "execution_count": 7,
   "id": "def7478a",
   "metadata": {},
   "outputs": [
    {
     "name": "stdout",
     "output_type": "stream",
     "text": [
      "i: 0\n",
      "i: 1\n",
      "i: 2\n",
      "i: 3\n",
      "i: 4\n",
      "i: 5\n",
      "i: 6\n",
      "Sorted array is: [11, 12, 22, 25, 34, 64, 90]\n"
     ]
    }
   ],
   "source": [
    "def bubble_sort(arr):\n",
    "    n = len(arr)\n",
    "    \n",
    "    swap = False  # so we can tell when array is sorted\n",
    "    # Traverse through all elements of the array\n",
    "    for i in range(n):\n",
    "        print(f'i: {i}')\n",
    "        # Last i elements are already in place, so we don't need to check them again\n",
    "        for j in range(0, n - i - 1):\n",
    "            # Compare adjacent elements\n",
    "            if arr[j] > arr[j + 1]:\n",
    "                # Swap the elements, set swap equal to True\n",
    "                arr[j], arr[j + 1] = arr[j + 1], arr[j]\n",
    "                swap = True\n",
    "\n",
    "    if swap is False:\n",
    "        return arr\n",
    "\n",
    "# Example:\n",
    "#      0   1   2   3\n",
    "# arr = [64, 34, 25, 12, 22, 11, 90]\n",
    "arr = [11, 12, 22, 25, 34, 64, 90]\n",
    "bubble_sort(arr)\n",
    "print(\"Sorted array is:\", arr)"
   ]
  },
  {
   "cell_type": "code",
   "execution_count": 2,
   "id": "1258a11a",
   "metadata": {},
   "outputs": [
    {
     "name": "stdout",
     "output_type": "stream",
     "text": [
      "i: 0\n",
      "i: 1\n",
      "i: 2\n",
      "i: 3\n",
      "i: 4\n",
      "i: 5\n",
      "i: 6\n",
      "sorted array: [11, 12, 22, 25, 34, 64, 90]\n"
     ]
    }
   ],
   "source": [
    "def bubble_sort(arr):\n",
    "    n = len(arr)\n",
    "    \n",
    "    # Traverse through all elements of the array\n",
    "    for i in range(n):\n",
    "        swap = False  # so we can tell when array is sorted\n",
    "        print(f'i: {i}')\n",
    "        # Last i elements are already in place, so we don't need to check them again\n",
    "        for j in range(n - i - 1):\n",
    "            # Compare adjacent elements\n",
    "            if arr[j] > arr[j + 1]:\n",
    "                # Swap the elements, set swap equal to True\n",
    "                arr[j], arr[j + 1] = arr[j + 1], arr[j]\n",
    "                swap = True\n",
    "\n",
    "    if swap is False:\n",
    "        return arr\n",
    "\n",
    "\n",
    "# arr = [64, 34, 25, 12, 22, 11, 90]\n",
    "arr = [11, 12, 22, 25, 34, 64, 90]\n",
    "bubble_sort(arr)\n",
    "print(f'sorted array: {arr}')"
   ]
  },
  {
   "cell_type": "code",
   "execution_count": 3,
   "id": "6dbb442c",
   "metadata": {},
   "outputs": [
    {
     "name": "stdout",
     "output_type": "stream",
     "text": [
      "i: 0\n",
      "sorted array: [11, 12, 22, 25, 34, 64, 90]\n"
     ]
    }
   ],
   "source": [
    "def bubble_sort(arr):\n",
    "    n = len(arr)\n",
    "    \n",
    "    # traverse through all elements of the array\n",
    "    for i in range(n):\n",
    "        swap = False  # so we can tell when array is sorted\n",
    "        print(f'i: {i}')\n",
    "        # last i elements are already in place, so we don't need to check them again\n",
    "        for j in range(n - i - 1):\n",
    "            # compare adjacent elements\n",
    "            if arr[j] > arr[j + 1]:\n",
    "                # swap the elements, set swap equal to True\n",
    "                arr[j], arr[j + 1] = arr[j + 1], arr[j]\n",
    "                swap = True\n",
    "\n",
    "        if swap is False:\n",
    "            return\n",
    "\n",
    "\n",
    "# arr = [64, 34, 25, 12, 22, 11, 90]\n",
    "arr = [11, 12, 22, 25, 34, 64, 90]\n",
    "bubble_sort(arr)\n",
    "print(f'sorted array: {arr}')"
   ]
  },
  {
   "cell_type": "code",
   "execution_count": 3,
   "id": "6d3fd9b5",
   "metadata": {},
   "outputs": [
    {
     "name": "stdout",
     "output_type": "stream",
     "text": [
      "sorted array: [5, 6, 11, 12, 13]\n"
     ]
    }
   ],
   "source": [
    "def insertion_sort(arr):\n",
    "    # Traverse through 1 to len(arr)\n",
    "    for i in range(1, len(arr)):\n",
    "        key = arr[i]  # Current element to be compared\n",
    "\n",
    "        # Move elements of arr[0..i-1], that are greater than key,\n",
    "        # to one position ahead of their current position\n",
    "        j = i - 1\n",
    "        while j >= 0 and key < arr[j]:\n",
    "            arr[j + 1] = arr[j]\n",
    "            j -= 1\n",
    "        \n",
    "        arr[j + 1] = key\n",
    "\n",
    "arr = [12, 11, 13, 5, 6]\n",
    "insertion_sort(arr)\n",
    "\n",
    "print(f'sorted array: {arr}')"
   ]
  },
  {
   "cell_type": "code",
   "execution_count": 17,
   "id": "dc79d467",
   "metadata": {},
   "outputs": [
    {
     "name": "stdout",
     "output_type": "stream",
     "text": [
      "digits: [1, 9, 8, 7]\n",
      "sum of digits: 25\n"
     ]
    }
   ],
   "source": [
    "# sum of digits in a given number\n",
    "\n",
    "def list_digits(n):\n",
    "    lst_digits = []\n",
    "    while n > 0:\n",
    "        digit = n % 10\n",
    "        n //= 10\n",
    "        lst_digits.append(digit)\n",
    "    \n",
    "    return lst_digits[::-1]\n",
    "\n",
    "def sum_digits(n):\n",
    "    digits = list_digits(n)\n",
    "    return sum(digits)\n",
    "\n",
    "n = 1987\n",
    "digits = list_digits(n)\n",
    "print(f'digits: {digits}')\n",
    "total_sum = sum_digits(n)\n",
    "print(f'sum of digits: {total_sum}')"
   ]
  },
  {
   "cell_type": "code",
   "execution_count": 22,
   "id": "fc4e7ed8",
   "metadata": {},
   "outputs": [
    {
     "name": "stdout",
     "output_type": "stream",
     "text": [
      "digits: [1, 9, 8, 7]\n"
     ]
    }
   ],
   "source": [
    "def list_digits(n, base=10):\n",
    "    lst_digits = []\n",
    "    while n > 0:\n",
    "        digit = n % base\n",
    "        n //= base\n",
    "        lst_digits.append(digit)\n",
    "    \n",
    "    return lst_digits[::-1]\n",
    "\n",
    "n = 1987\n",
    "digits = list_digits(n)\n",
    "print(f'digits: {digits}')"
   ]
  },
  {
   "cell_type": "code",
   "execution_count": 19,
   "id": "740d5c4a",
   "metadata": {},
   "outputs": [
    {
     "name": "stdout",
     "output_type": "stream",
     "text": [
      "digits: [3, 7, 0, 3]\n",
      "sum of digits: 25\n"
     ]
    }
   ],
   "source": [
    "# convert base 10 to base 8\n",
    "\n",
    "def list_digits(n, base=10):\n",
    "    lst_digits = []\n",
    "    while n > 0:\n",
    "        digit = n % base\n",
    "        n //= base\n",
    "        lst_digits.append(digit)\n",
    "    \n",
    "    return lst_digits[::-1]\n",
    "\n",
    "def sum_digits(n):\n",
    "    digits = list_digits(n)\n",
    "    return sum(digits)\n",
    "\n",
    "n = 1987\n",
    "digits = list_digits(n, 8)\n",
    "print(f'digits: {digits}')\n",
    "total_sum = sum_digits(n)\n",
    "print(f'sum of digits: {total_sum}')"
   ]
  },
  {
   "cell_type": "code",
   "execution_count": 20,
   "id": "2cc79590",
   "metadata": {},
   "outputs": [
    {
     "name": "stdout",
     "output_type": "stream",
     "text": [
      "digits: [1, 1, 1, 1, 1, 0, 0, 0, 0, 1, 1]\n",
      "sum of digits: 25\n"
     ]
    }
   ],
   "source": [
    "# convert base 10 to base 2\n",
    "\n",
    "def list_digits(n, base=10):\n",
    "    lst_digits = []\n",
    "    while n > 0:\n",
    "        digit = n % base\n",
    "        n //= base\n",
    "        lst_digits.append(digit)\n",
    "    \n",
    "    return lst_digits[::-1]\n",
    "\n",
    "def sum_digits(n):\n",
    "    digits = list_digits(n)\n",
    "    return sum(digits)\n",
    "\n",
    "n = 1987\n",
    "digits = list_digits(n, 2)\n",
    "print(f'digits: {digits}')\n",
    "\n",
    "total_sum = sum_digits(n)\n",
    "print(f'sum of digits: {total_sum}')"
   ]
  },
  {
   "cell_type": "code",
   "execution_count": 21,
   "id": "6ce19397",
   "metadata": {},
   "outputs": [
    {
     "name": "stdout",
     "output_type": "stream",
     "text": [
      "digits: [7, 12, 3]\n",
      "sum of digits: 25\n"
     ]
    }
   ],
   "source": [
    "# convert base 10 to base 16\n",
    "\n",
    "def list_digits(n, base=10):\n",
    "    lst_digits = []\n",
    "    while n > 0:\n",
    "        digit = n % base\n",
    "        n //= base\n",
    "        lst_digits.append(digit)\n",
    "    \n",
    "    return lst_digits[::-1]\n",
    "\n",
    "def sum_digits(n):\n",
    "    digits = list_digits(n)\n",
    "    return sum(digits)\n",
    "\n",
    "n = 1987\n",
    "digits = list_digits(n, 16)\n",
    "print(f'digits: {digits}')\n",
    "\n",
    "total_sum = sum_digits(n)\n",
    "print(f'sum of digits: {total_sum}')"
   ]
  },
  {
   "cell_type": "code",
   "execution_count": 23,
   "id": "f6179616",
   "metadata": {},
   "outputs": [
    {
     "data": {
      "text/plain": [
       "25"
      ]
     },
     "execution_count": 23,
     "metadata": {},
     "output_type": "execute_result"
    }
   ],
   "source": [
    "def sum_of_digits(n):    \n",
    "    sum_digits = 0\n",
    "    while n > 0:\n",
    "        digit = n % 10\n",
    "        n //= 10\n",
    "        sum_digits += digit\n",
    "\n",
    "    return sum_digits\n",
    "\n",
    "n = 1987\n",
    "sum_of_digits(n)"
   ]
  },
  {
   "cell_type": "code",
   "execution_count": 1,
   "id": "5b203482",
   "metadata": {},
   "outputs": [
    {
     "name": "stdout",
     "output_type": "stream",
     "text": [
      "primes less than 200: [1, 2, 3, 5, 7, 11, 13, 17, 19, 23, 29, 31, 37, 41, 43, 47, 53, 59, 61, 67, 71, 73, 79, 83, 89, 97, 101, 103, 107, 109, 113, 127, 131, 137, 139, 149, 151, 157, 163, 167, 173, 179, 181, 191, 193, 197, 199]\n"
     ]
    }
   ],
   "source": [
    "def is_prime(n):\n",
    "    for i in range(2, n-1):\n",
    "        if n % i == 0:\n",
    "            return False\n",
    "    return True\n",
    "\n",
    "def primes(n):\n",
    "    primes = []\n",
    "    for i in range(1, n):\n",
    "        if is_prime(i):\n",
    "            primes.append(i)\n",
    "    return primes\n",
    "\n",
    "n = 200\n",
    "prime_nums = primes(n)\n",
    "print(f'primes less than 200: {prime_nums}')"
   ]
  },
  {
   "cell_type": "code",
   "execution_count": 2,
   "id": "ae0c2f29",
   "metadata": {},
   "outputs": [
    {
     "name": "stdout",
     "output_type": "stream",
     "text": [
      "professor primes: [1, 2, 3, 5, 7, 11, 13, 17, 19, 23, 29, 31, 37, 41, 43, 47, 53, 59, 61, 67, 71, 73, 79, 83, 89, 97, 101, 103, 107, 109, 113, 127, 131, 137, 139, 149, 151, 157, 163, 167, 173, 179, 181, 191, 193, 197, 199]\n"
     ]
    }
   ],
   "source": [
    "def is_prime_prof(num):\n",
    "    if num <= 1:\n",
    "        return False\n",
    "    if num <= 3:\n",
    "        return True\n",
    "    if num % 2 == 0 or num % 3 == 0:\n",
    "        return False\n",
    "    i = 5\n",
    "    while i * i <= num:\n",
    "        if num % i == 0 or num % (i + 2) == 0:\n",
    "            return False\n",
    "        i += 6\n",
    "    return True\n",
    "\n",
    "def find_primes_prof(n):\n",
    "    primes = []\n",
    "    for num in range(1, n):\n",
    "        if is_prime(num):\n",
    "            primes.append(num)\n",
    "    \n",
    "    return primes\n",
    "\n",
    "n = 200\n",
    "primes_prof = find_primes_prof(n)\n",
    "print(f'professor primes: {primes_prof}')"
   ]
  },
  {
   "cell_type": "code",
   "execution_count": 4,
   "id": "bd7f2467",
   "metadata": {},
   "outputs": [
    {
     "data": {
      "text/plain": [
       "False"
      ]
     },
     "execution_count": 4,
     "metadata": {},
     "output_type": "execute_result"
    }
   ],
   "source": [
    "n = 17 * 17\n",
    "is_prime_prof(n + 1)"
   ]
  },
  {
   "cell_type": "code",
   "execution_count": 28,
   "id": "99f9c4be",
   "metadata": {},
   "outputs": [
    {
     "name": "stdout",
     "output_type": "stream",
     "text": [
      "my primes: [1, 2, 3, 5, 7, 11, 13, 17, 19, 23, 29, 31, 37, 41, 43, 47, 53, 59, 61, 67, 71, 73, 79, 83, 89, 97, 101, 103, 107, 109, 113, 127, 131, 137, 139, 149, 151, 157, 163, 167, 173, 179, 181, 191, 193, 197, 199]\n",
      "professor primes: [2, 3, 5, 7, 11, 13, 17, 19, 23, 29, 31, 37, 41, 43, 47, 53, 59, 61, 67, 71, 73, 79, 83, 89, 97, 101, 103, 107, 109, 113, 127, 131, 137, 139, 149, 151, 157, 163, 167, 173, 179, 181, 191, 193, 197, 199]\n"
     ]
    }
   ],
   "source": [
    "print(f'my primes: {prime_nums}')\n",
    "print(f'professor primes: {primes_prof}')"
   ]
  },
  {
   "cell_type": "code",
   "execution_count": 31,
   "id": "61e0d6e9",
   "metadata": {},
   "outputs": [
    {
     "data": {
      "text/plain": [
       "[]"
      ]
     },
     "execution_count": 31,
     "metadata": {},
     "output_type": "execute_result"
    }
   ],
   "source": [
    "def list_diff(list1, list2):\n",
    "    list_diffs = []\n",
    "    if len(list1) > len(list2):\n",
    "        for num in list2:\n",
    "            if num not in list1:\n",
    "                list_diffs.append(num)\n",
    "    else:\n",
    "        for num in list1:\n",
    "            if num not in list2:\n",
    "                list_diffs.append(num)\n",
    "\n",
    "    return list_diffs\n",
    "\n",
    "list1 = prime_nums\n",
    "list2 = primes_prof\n",
    "list_diff(list1, list2)"
   ]
  },
  {
   "cell_type": "code",
   "execution_count": 28,
   "id": "95e997fd",
   "metadata": {},
   "outputs": [
    {
     "name": "stdout",
     "output_type": "stream",
     "text": [
      "my primes: [1, 2, 3, 5, 7, 11, 13, 17, 19, 23, 29, 31, 37, 41, 43, 47, 53, 59, 61, 67, 71, 73, 79, 83, 89, 97, 101, 103, 107, 109, 113, 127, 131, 137, 139, 149, 151, 157, 163, 167, 173, 179, 181, 191, 193, 197, 199]\n",
      "professor primes: [2, 3, 5, 7, 11, 13, 17, 19, 23, 29, 31, 37, 41, 43, 47, 53, 59, 61, 67, 71, 73, 79, 83, 89, 97, 101, 103, 107, 109, 113, 127, 131, 137, 139, 149, 151, 157, 163, 167, 173, 179, 181, 191, 193, 197, 199]\n"
     ]
    }
   ],
   "source": [
    "print(f'my primes: {prime_nums}')\n",
    "print(f'professor primes: {primes_prof}')"
   ]
  },
  {
   "cell_type": "code",
   "execution_count": 4,
   "id": "3bbb1f40",
   "metadata": {},
   "outputs": [
    {
     "data": {
      "text/plain": [
       "[1]"
      ]
     },
     "execution_count": 4,
     "metadata": {},
     "output_type": "execute_result"
    }
   ],
   "source": [
    "def list_diff(list1, list2):\n",
    "    list_diffs = []\n",
    "    for num in list1:\n",
    "        if num not in list2:\n",
    "            list_diffs.append(num)\n",
    "\n",
    "    return list_diffs\n",
    "\n",
    "list1 = prime_nums\n",
    "list2 = primes_prof\n",
    "list_diff(list1, list2)"
   ]
  },
  {
   "cell_type": "code",
   "execution_count": 5,
   "id": "1f918201",
   "metadata": {},
   "outputs": [
    {
     "data": {
      "text/plain": [
       "[]"
      ]
     },
     "execution_count": 5,
     "metadata": {},
     "output_type": "execute_result"
    }
   ],
   "source": [
    "n = 1000\n",
    "list_diff(primes(n), find_primes_prof(n))"
   ]
  },
  {
   "cell_type": "code",
   "execution_count": 11,
   "id": "18d9bcf0",
   "metadata": {},
   "outputs": [
    {
     "name": "stdout",
     "output_type": "stream",
     "text": [
      "list differences: [1]\n"
     ]
    }
   ],
   "source": [
    "def is_prime_prof(num):\n",
    "    if num <= 1:\n",
    "        return False\n",
    "    if num <= 3:\n",
    "        return True\n",
    "    if num % 2 == 0 or num % 3 == 0:\n",
    "        return False\n",
    "    i = 5\n",
    "    while i * i <= num:\n",
    "        if num % i == 0 or num % (i + 2) == 0:\n",
    "            return False\n",
    "        i += 6\n",
    "    return True\n",
    "\n",
    "def find_primes_prof(n):\n",
    "    primes = []\n",
    "    for num in range(1, n):\n",
    "        if is_prime_prof(num):\n",
    "            primes.append(num)\n",
    "    \n",
    "    return primes\n",
    "\n",
    "def is_prime(n):\n",
    "    for i in range(2, n-1):\n",
    "        if n % i == 0:\n",
    "            return False\n",
    "    return True\n",
    "\n",
    "def primes(n):\n",
    "    primes = []\n",
    "    for i in range(1, n):\n",
    "        if is_prime(i):\n",
    "            primes.append(i)\n",
    "    return primes\n",
    "\n",
    "def list_diff(n):\n",
    "    list_diffs = []\n",
    "    list1 = primes(n)\n",
    "    list2 = find_primes_prof(n)\n",
    "    for num in list1:\n",
    "        if num not in list2:\n",
    "            list_diffs.append(num)\n",
    "\n",
    "    return list_diffs\n",
    "\n",
    "n = 100\n",
    "diffs = list_diff(n)\n",
    "print(f'list differences: {diffs}')"
   ]
  },
  {
   "cell_type": "code",
   "execution_count": 18,
   "id": "59f9ef45",
   "metadata": {},
   "outputs": [
    {
     "data": {
      "text/plain": [
       "{1}"
      ]
     },
     "execution_count": 18,
     "metadata": {},
     "output_type": "execute_result"
    }
   ],
   "source": [
    "n = 100000\n",
    "# print(f'primes({n}): {primes(n)}')\n",
    "# print(f'find_primes_prof({n}): {find_primes_prof(n)}')\n",
    "set(primes(n)) - set(find_primes_prof(n))"
   ]
  },
  {
   "cell_type": "code",
   "execution_count": 4,
   "id": "fa59d204",
   "metadata": {},
   "outputs": [
    {
     "data": {
      "text/plain": [
       "{1}"
      ]
     },
     "execution_count": 4,
     "metadata": {},
     "output_type": "execute_result"
    }
   ],
   "source": [
    "a1 = [1, 2, 3, 5, 7]\n",
    "a2 = [2, 3, 5, 7]\n",
    "set(a1) - set(a2)"
   ]
  },
  {
   "cell_type": "code",
   "execution_count": 20,
   "id": "f680521a",
   "metadata": {},
   "outputs": [
    {
     "name": "stdout",
     "output_type": "stream",
     "text": [
      "primes optimized algorithm: [2, 3, 5, 7, 11, 13, 17, 19, 23]\n"
     ]
    }
   ],
   "source": [
    "# primes algorithm optimized\n",
    "\n",
    "def find_primes_optimized(N):\n",
    "    primes = [2, 3]\n",
    "    for n in range(5, N):  # 2 and 3 already in primes, 4 is not a prime number\n",
    "        n_prime = True\n",
    "        for p in primes:\n",
    "            if n % p == 0:\n",
    "                n_prime = False\n",
    "                break\n",
    "\n",
    "        if n_prime:\n",
    "            primes.append(n)\n",
    "\n",
    "    return primes\n",
    "\n",
    "n = 26\n",
    "primes_optimized = find_primes_optimized(n)\n",
    "print(f'primes optimized algorithm: {primes_optimized}')"
   ]
  },
  {
   "cell_type": "code",
   "execution_count": 22,
   "id": "30791a5d",
   "metadata": {},
   "outputs": [
    {
     "data": {
      "text/plain": [
       "set()"
      ]
     },
     "execution_count": 22,
     "metadata": {},
     "output_type": "execute_result"
    }
   ],
   "source": [
    "def is_prime_prof(num):\n",
    "    if num <= 1:\n",
    "        return False\n",
    "    if num <= 3:\n",
    "        return True\n",
    "    if num % 2 == 0 or num % 3 == 0:\n",
    "        return False\n",
    "    i = 5\n",
    "    while i * i <= num:\n",
    "        if num % i == 0 or num % (i + 2) == 0:\n",
    "            return False\n",
    "        i += 6\n",
    "    return True\n",
    "\n",
    "def find_primes_prof(n):\n",
    "    primes = []\n",
    "    for num in range(1, n):\n",
    "        if is_prime_prof(num):\n",
    "            primes.append(num)\n",
    "    \n",
    "    return primes\n",
    "\n",
    "def find_primes_optimized(N):\n",
    "    primes = [2, 3]\n",
    "    for n in range(5, N):  # 2 and 3 already in primes, 4 is not a prime number\n",
    "        n_prime = True\n",
    "        for p in primes:\n",
    "            if n % p == 0:\n",
    "                n_prime = False\n",
    "                break\n",
    "\n",
    "        if n_prime:\n",
    "            primes.append(n)\n",
    "\n",
    "    return primes\n",
    "\n",
    "n = 26\n",
    "professor_primes = find_primes_prof(n)\n",
    "my_primes_optimized = find_primes_optimized(n)\n",
    "# set(professor_primes) - set(my_primes_optimized)\n",
    "set(my_primes_optimized) - set(professor_primes)"
   ]
  },
  {
   "cell_type": "code",
   "execution_count": 25,
   "id": "16654852",
   "metadata": {},
   "outputs": [
    {
     "data": {
      "text/plain": [
       "True"
      ]
     },
     "execution_count": 25,
     "metadata": {},
     "output_type": "execute_result"
    }
   ],
   "source": [
    "def is_palindrome_prof(input_str):\n",
    "    # initialize variables for the loop\n",
    "    length = len(input_str)\n",
    "    is_palindrome = True\n",
    "    \n",
    "    # use a for loop to compare characters from both ends of the string\n",
    "    for i in range(length // 2):\n",
    "        if input_str[i] != input_str[length - i - 1]:\n",
    "            is_palindrome = False\n",
    "            break\n",
    "    \n",
    "    return is_palindrome\n",
    "\n",
    "string = 'abcba'\n",
    "is_palindrome_prof(string)"
   ]
  },
  {
   "cell_type": "code",
   "execution_count": 27,
   "id": "05157f7e",
   "metadata": {},
   "outputs": [
    {
     "data": {
      "text/plain": [
       "False"
      ]
     },
     "execution_count": 27,
     "metadata": {},
     "output_type": "execute_result"
    }
   ],
   "source": [
    "def is_palindrome_prof(input_str):\n",
    "    # initialize variables for the loop\n",
    "    length = len(input_str)\n",
    "    is_palindrome = True\n",
    "    \n",
    "    # use a for loop to compare characters from both ends of the string\n",
    "    for i in range(length // 2):\n",
    "        if input_str[i] != input_str[-i - 1]:\n",
    "            is_palindrome = False\n",
    "            break\n",
    "    \n",
    "    return is_palindrome\n",
    "\n",
    "string = 'abcbA'\n",
    "is_palindrome_prof(string)"
   ]
  },
  {
   "cell_type": "code",
   "execution_count": 28,
   "id": "9df3ec34",
   "metadata": {},
   "outputs": [
    {
     "data": {
      "text/plain": [
       "5"
      ]
     },
     "execution_count": 28,
     "metadata": {},
     "output_type": "execute_result"
    }
   ],
   "source": [
    "def linear_search(arr, target):\n",
    "    for i in range(len(arr)):\n",
    "        if arr[i] == target:\n",
    "            return i  # Return the index of the target if found\n",
    "    return -1  # Return -1 if the target is not in the list\n",
    "\n",
    "target = 3\n",
    "arr = [2, 5, 7, 1, -5, 3, 8]\n",
    "linear_search(arr, target)"
   ]
  }
 ],
 "metadata": {
  "kernelspec": {
   "display_name": "Python 3 (ipykernel)",
   "language": "python",
   "name": "python3"
  },
  "language_info": {
   "codemirror_mode": {
    "name": "ipython",
    "version": 3
   },
   "file_extension": ".py",
   "mimetype": "text/x-python",
   "name": "python",
   "nbconvert_exporter": "python",
   "pygments_lexer": "ipython3",
   "version": "3.11.4"
  }
 },
 "nbformat": 4,
 "nbformat_minor": 5
}
