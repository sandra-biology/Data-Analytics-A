{
 "cells": [
  {
   "cell_type": "code",
   "execution_count": 26,
   "id": "20123abc",
   "metadata": {},
   "outputs": [
    {
     "name": "stdout",
     "output_type": "stream",
     "text": [
      "x of object of class A: 5\n",
      "x of object of class A: 19\n"
     ]
    },
    {
     "data": {
      "text/plain": [
       "0"
      ]
     },
     "execution_count": 26,
     "metadata": {},
     "output_type": "execute_result"
    }
   ],
   "source": [
    "class A:\n",
    "    g = 0\n",
    "    def __init__(self, x):\n",
    "        # g += 1\n",
    "        self.x = x\n",
    "        \n",
    "    def get_x(self):\n",
    "        return self.x\n",
    "\n",
    "a = A(5)\n",
    "print(f'x of object of class A: {a.get_x()}')\n",
    "\n",
    "b = A(19)\n",
    "print(f'x of object of class A: {b.get_x()}')\n",
    "\n",
    "A.g"
   ]
  },
  {
   "cell_type": "code",
   "execution_count": 12,
   "id": "f86b5c6f",
   "metadata": {},
   "outputs": [
    {
     "name": "stdout",
     "output_type": "stream",
     "text": [
      "x of object of class A: 5\n",
      "x of object of class A: 19\n"
     ]
    },
    {
     "data": {
      "text/plain": [
       "0"
      ]
     },
     "execution_count": 12,
     "metadata": {},
     "output_type": "execute_result"
    }
   ],
   "source": [
    "class A:\n",
    "    g = 0\n",
    "    def __init__(self, x):\n",
    "        # g += 1\n",
    "        self.x = x\n",
    "        \n",
    "    def get_x(self):\n",
    "        return self.x\n",
    "\n",
    "a = A(5)\n",
    "print(f'x of object of class A: {a.get_x()}')\n",
    "\n",
    "b = A(19)\n",
    "print(f'x of object of class A: {b.get_x()}')\n",
    "\n",
    "A.g"
   ]
  },
  {
   "cell_type": "code",
   "execution_count": 15,
   "id": "fb873d34",
   "metadata": {},
   "outputs": [
    {
     "name": "stdout",
     "output_type": "stream",
     "text": [
      "x, y of object of class B: <__main__.B object at 0x0000024B46522DD0>\n",
      "x of object of class B: 6\n",
      "y of object of class B: 7\n"
     ]
    }
   ],
   "source": [
    "class B(A):\n",
    "    def __init__(self, x, y):\n",
    "        super().__init__(x)  # call constructor\n",
    "        self.y = y\n",
    "\n",
    "b = B(6, 7)\n",
    "print(f'x, y of object of class B: {b}')\n",
    "print(f'x of object of class B: {b.x}')\n",
    "print(f'y of object of class B: {b.y}')"
   ]
  },
  {
   "cell_type": "code",
   "execution_count": 16,
   "id": "d0adfb57",
   "metadata": {},
   "outputs": [
    {
     "name": "stdout",
     "output_type": "stream",
     "text": [
      "3\n",
      "20\n"
     ]
    }
   ],
   "source": [
    "def fcall(fun, x):\n",
    "    print(fun(x))\n",
    "\n",
    "def f1(x):\n",
    "    return x+1\n",
    "\n",
    "def f2(x):\n",
    "    return 10 * x\n",
    "\n",
    "fcall(f1, 2)\n",
    "fcall(f2, 2)"
   ]
  },
  {
   "cell_type": "code",
   "execution_count": 20,
   "id": "ac3283cb",
   "metadata": {},
   "outputs": [
    {
     "data": {
      "text/plain": [
       "[1, 9, 8, 7]"
      ]
     },
     "execution_count": 20,
     "metadata": {},
     "output_type": "execute_result"
    }
   ],
   "source": [
    "s = '1987'\n",
    "\n",
    "lst = list(s)\n",
    "\n",
    "list( map(int, lst) )"
   ]
  },
  {
   "cell_type": "code",
   "execution_count": 23,
   "id": "10a5edf8",
   "metadata": {},
   "outputs": [
    {
     "name": "stdout",
     "output_type": "stream",
     "text": [
      "a.z: 100\n"
     ]
    },
    {
     "ename": "AttributeError",
     "evalue": "'A' object has no attribute 'z'",
     "output_type": "error",
     "traceback": [
      "\u001b[1;31m---------------------------------------------------------------------------\u001b[0m",
      "\u001b[1;31mAttributeError\u001b[0m                            Traceback (most recent call last)",
      "Cell \u001b[1;32mIn[23], line 6\u001b[0m\n\u001b[0;32m      2\u001b[0m \u001b[38;5;28mprint\u001b[39m(\u001b[38;5;124mf\u001b[39m\u001b[38;5;124m'\u001b[39m\u001b[38;5;124ma.z: \u001b[39m\u001b[38;5;132;01m{\u001b[39;00ma\u001b[38;5;241m.\u001b[39mz\u001b[38;5;132;01m}\u001b[39;00m\u001b[38;5;124m'\u001b[39m)\n\u001b[0;32m      4\u001b[0m \u001b[38;5;28;01mdel\u001b[39;00m a\u001b[38;5;241m.\u001b[39mz\n\u001b[1;32m----> 6\u001b[0m a\u001b[38;5;241m.\u001b[39mz\n",
      "\u001b[1;31mAttributeError\u001b[0m: 'A' object has no attribute 'z'"
     ]
    }
   ],
   "source": [
    "a.z = 100\n",
    "print(f'a.z: {a.z}')\n",
    "\n",
    "del a.z\n",
    "\n",
    "a.z"
   ]
  },
  {
   "cell_type": "code",
   "execution_count": 27,
   "id": "feb4c808",
   "metadata": {},
   "outputs": [
    {
     "ename": "NameError",
     "evalue": "name 'string' is not defined",
     "output_type": "error",
     "traceback": [
      "\u001b[1;31m---------------------------------------------------------------------------\u001b[0m",
      "\u001b[1;31mNameError\u001b[0m                                 Traceback (most recent call last)",
      "Cell \u001b[1;32mIn[27], line 3\u001b[0m\n\u001b[0;32m      1\u001b[0m string \u001b[38;5;241m=\u001b[39m \u001b[38;5;124m'\u001b[39m\u001b[38;5;124m1987\u001b[39m\u001b[38;5;124m'\u001b[39m\n\u001b[0;32m      2\u001b[0m \u001b[38;5;28;01mdel\u001b[39;00m string\n\u001b[1;32m----> 3\u001b[0m string\n",
      "\u001b[1;31mNameError\u001b[0m: name 'string' is not defined"
     ]
    }
   ],
   "source": [
    "string = '1987'\n",
    "del string\n",
    "string"
   ]
  },
  {
   "cell_type": "code",
   "execution_count": 32,
   "id": "737f05f5",
   "metadata": {},
   "outputs": [
    {
     "ename": "TypeError",
     "evalue": "dict.popitem() takes no arguments (1 given)",
     "output_type": "error",
     "traceback": [
      "\u001b[1;31m---------------------------------------------------------------------------\u001b[0m",
      "\u001b[1;31mTypeError\u001b[0m                                 Traceback (most recent call last)",
      "Cell \u001b[1;32mIn[32], line 2\u001b[0m\n\u001b[0;32m      1\u001b[0m dct \u001b[38;5;241m=\u001b[39m {\u001b[38;5;241m1\u001b[39m: \u001b[38;5;241m1\u001b[39m, \u001b[38;5;241m2\u001b[39m: \u001b[38;5;241m4\u001b[39m, \u001b[38;5;241m3\u001b[39m: \u001b[38;5;241m9\u001b[39m, \u001b[38;5;241m4\u001b[39m: \u001b[38;5;241m16\u001b[39m}\n\u001b[1;32m----> 2\u001b[0m dct\u001b[38;5;241m.\u001b[39mpopitem(\u001b[38;5;241m1\u001b[39m)\n",
      "\u001b[1;31mTypeError\u001b[0m: dict.popitem() takes no arguments (1 given)"
     ]
    }
   ],
   "source": [
    "dct = {1: 1, 2: 4, 3: 9, 4: 16}\n",
    "dct.popitem(1)"
   ]
  },
  {
   "cell_type": "code",
   "execution_count": 31,
   "id": "327071a9",
   "metadata": {},
   "outputs": [
    {
     "data": {
      "text/plain": [
       "{1: 1, 2: 4, 3: 9}"
      ]
     },
     "execution_count": 31,
     "metadata": {},
     "output_type": "execute_result"
    }
   ],
   "source": [
    "dct"
   ]
  }
 ],
 "metadata": {
  "kernelspec": {
   "display_name": "Python 3 (ipykernel)",
   "language": "python",
   "name": "python3"
  },
  "language_info": {
   "codemirror_mode": {
    "name": "ipython",
    "version": 3
   },
   "file_extension": ".py",
   "mimetype": "text/x-python",
   "name": "python",
   "nbconvert_exporter": "python",
   "pygments_lexer": "ipython3",
   "version": "3.11.4"
  }
 },
 "nbformat": 4,
 "nbformat_minor": 5
}
