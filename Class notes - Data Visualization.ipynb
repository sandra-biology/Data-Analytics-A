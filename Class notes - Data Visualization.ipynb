{
 "cells": [
  {
   "cell_type": "markdown",
   "id": "50f46266",
   "metadata": {},
   "source": [
    "### Introduction to data visualization\n",
    "- data visualization is representation of data through use of charts, plots, infographics, animations\n",
    "- principles\n",
    "    - maximize data-ink ratio\n",
    "    - use appropriate scales and axes\n",
    "    - choose the right visualization type"
   ]
  },
  {
   "cell_type": "markdown",
   "id": "cf5f0285",
   "metadata": {},
   "source": [
    "### Data cleaning\n",
    "- remove duplicates\n",
    "    - filter: one or two employees/entries\n",
    "    - highlight column -> highlight calls rules -> duplicates\n",
    "    - select entire table -> data -> remove duplicates\n",
    "        - save a copy of the data before removing duplicates\n",
    "    - removing duplicates automatically selects first entry as the entry to keep if we don't do sorting, but that entry might not be the answer we're looking for\n",
    "        - safe route is to always sort first\n",
    "- unique identifier: very specific identifier, usually a numeric code that differentiates one row from another\n",
    "- concatenation: combining two or more fields\n",
    "    - use =concat(columns)\n",
    "    - =concat(column1, \" \", column2) getss us back to original format\n",
    "- vlookup allows us to look up values in another table and return value of another column in that second table\n",
    "    - =vlookup(value we're looking for, table we're looking in, column we need to return, FALSE)\n",
    "    - dates and number will need to be reformatted"
   ]
  },
  {
   "cell_type": "markdown",
   "id": "fef832a5",
   "metadata": {},
   "source": [
    "### Data visualization in Excel\n",
    "- change type for zip codes to text (Excel has them as numbers by default)"
   ]
  }
 ],
 "metadata": {
  "kernelspec": {
   "display_name": "Python 3 (ipykernel)",
   "language": "python",
   "name": "python3"
  },
  "language_info": {
   "codemirror_mode": {
    "name": "ipython",
    "version": 3
   },
   "file_extension": ".py",
   "mimetype": "text/x-python",
   "name": "python",
   "nbconvert_exporter": "python",
   "pygments_lexer": "ipython3",
   "version": "3.9.12"
  }
 },
 "nbformat": 4,
 "nbformat_minor": 5
}
