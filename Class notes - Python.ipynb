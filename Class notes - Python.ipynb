{
 "cells": [
  {
   "cell_type": "markdown",
   "id": "a42f7846",
   "metadata": {},
   "source": [
    "#### Python introduction\n",
    "- object-oriented: inheritance (in classes, etc.)\n",
    "- synthax -> uses forwared slashes\n",
    "- blank lines in code are ignored"
   ]
  },
  {
   "cell_type": "markdown",
   "id": "c151fad6",
   "metadata": {},
   "source": [
    "#### Functions\n",
    "- function: a named sequence of statements that performs a desired operation\n",
    "    - usually for repetitive tasks\n",
    "- fuctions help break our programs into smaller chunks\n",
    "- hash(): returns hashed value only for immutable objects\n",
    "    - basis of mechanism for generating keys in dictionary\n",
    "    - when hashing strings, hashed value is unique to each string\n",
    "- * allows us to define arbitrary arguments (when we don't know in advance how many arguments we'll be using to call the function)\n",
    "- lambda functions can have any number of functions but only one expression\n",
    "    - used when we require a nameless function for a short period of time\n",
    "    - generally used with built-in funcitons\n",
    "- filter() returns list of elements, takes only one iterable as input\n",
    "- eval() interprets string as code\""
   ]
  },
  {
   "cell_type": "markdown",
   "id": "5f2c6572",
   "metadata": {},
   "source": [
    "#### Loops\n",
    "- iterative, work until the end of the sequence (for loop) or the condition is no longer met (while loop)\n",
    "- range function\n",
    "    - generates list of numbers\n",
    "    - does not store all values in memory (Python 3)\n",
    "- break statement\n",
    "    - terminates the block containing it\n",
    "    - control of the program proceeds to the statement below break statement or to next iteration of inner loop (in case of nested loops with break statement in inner loop)\n",
    "- continue statement\n",
    "    - used to skip the rest of the code for the current iteration only\n",
    "    - control of the program goes to the next iteration\""
   ]
  },
  {
   "cell_type": "markdown",
   "id": "18d3e2b8",
   "metadata": {},
   "source": [
    "#### Sorting in Python\n",
    "- sorted() returns a new list\n",
    "    - accepts any iterable\n",
    "    - always returns list\n",
    "        - when iterable is dictionary, returns sorted list of keys\n",
    "- sort(): method of class list\n",
    "    - modifies list in place, returns None\n",
    "    - only defined for lists\n",
    "- preserve original order of records when multiple records have the same key\n",
    "- when we use built-in sort function, Python uses hybrid merge sort/insertion sort algorithm\n",
    "- in  \n",
    "    def f(arr_input):  \n",
    "        arr_output = []\n",
    "        ...  \n",
    "        ...  \n",
    "        ...  \n",
    "        return arr_output  \n",
    "    arr_output is reference/address in memory"
   ]
  },
  {
   "cell_type": "markdown",
   "id": "c99c3af6",
   "metadata": {},
   "source": [
    "#### Namespaces and introduction to object-oriented programming\n",
    "- name: a name given to an object\n",
    "    - also called identifier\n",
    "    - stored in memory\n",
    "    - can access address in memory using id() function\n",
    "        - reference values\n",
    "- namespace containing all the built-in names is created in Python when we start it and exists as long as we don't exit\n",
    "- module: file containing Python definitions and statements (functions, classes, variables)\n",
    "- namespaces\n",
    "    - global: exist outside function\n",
    "        - global variable\n",
    "    - local: local to the function it's in\n",
    "         - local variable\n",
    "    - enclosing: with nested functions, variables defined in inner function are only visible to the inner function\n",
    "        - act same as local variable in any other function\n",
    "- changing global variable: cannot modify inside a function without using global keyword in function body\n",
    "    - global keyword: used to read and write a global variable inside the function\n",
    "        - use of global keyword outside the function has no effect\n",
    "- accessing global variables across modules\n",
    "    - %%writefile to write Python code to file in Jupyter\n",
    "- modules\n",
    "    - module: file containing block of Python code\n",
    "    - import modules rather than copying their definitions into main\n",
    "        - using import statement\n",
    "- OOPs: object-oriented programming\n",
    "    - uses classes and objects\n",
    "        - class: collection of objects\n",
    "            - contains attributes and methods\n",
    "            - __init__ is run as soon as instance of the class is created\n",
    "        - object: entity that has state and behavior associated with it\n",
    "            - state: represented by the attributes of the object\n",
    "            - behavior: represented by the methods of the object\n",
    "    - principles\n",
    "        - inheritance: capability of one class to inherit the properties of another class\n",
    "            - multilevel: one class inherits properties from its parent class which in turn inherits properties of its own parent class\n",
    "            - hierarchy level: two or more child classes inherit properties of the same parent class\n",
    "        - encapsulation: data and methods enclosed as a unit"
   ]
  },
  {
   "cell_type": "markdown",
   "id": "13dfddd7",
   "metadata": {},
   "source": [
    "#### Data types\n",
    "- tuples: immutable\n",
    "    - if tuple contains list, can change an element in that list\n",
    "- set\n",
    "    - update() allows us to add several values to the list at the same time\n",
    "    - set.discard() is same as del in lists and strings\n",
    "- frozenset\n",
    "    - set that is immutable\n",
    "    - doesn't have add or remove methods\n",
    "- dictionaries\n",
    "    - pop() take key argument to pop out, returns value\n",
    "        - differs from popitem() which takes no arguments\n",
    "    - nested dictionary: dictionary inside a dictionary\n",
    "        - need to use two keys to get value"
   ]
  }
 ],
 "metadata": {
  "kernelspec": {
   "display_name": "Python 3 (ipykernel)",
   "language": "python",
   "name": "python3"
  },
  "language_info": {
   "codemirror_mode": {
    "name": "ipython",
    "version": 3
   },
   "file_extension": ".py",
   "mimetype": "text/x-python",
   "name": "python",
   "nbconvert_exporter": "python",
   "pygments_lexer": "ipython3",
   "version": "3.11.4"
  }
 },
 "nbformat": 4,
 "nbformat_minor": 5
}
