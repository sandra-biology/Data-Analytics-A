{
 "cells": [
  {
   "cell_type": "markdown",
   "id": "8a43648f",
   "metadata": {},
   "source": [
    "### Introduction\n",
    "- introduction to business intelligence\n",
    "    - definition: techniques and tools to analyze and present business data\n",
    "    - purpose: support data-driven decision-making\n",
    "    - key components\n",
    "        - data collection\n",
    "        - data analysis\n",
    "        - data visualization\n",
    "        - data storage\n",
    "- business intelligence: practices and technologies for business data analysis\n",
    "- Power BI: Microsoft's toolset for data insights\n",
    "- Power Query Editor allows us to do data cleaning\n",
    "- Power BI automatically updates if data source updates\n",
    "- data types\n",
    "    - each column has a different data type\n",
    "        - can see each column's data type at the top of the transformation ribbon\n",
    "- Pivot column: the dataset I'm working on needs to not be open in any other programs\n",
    "- Group By aggregates data\n",
    "    - in Power Query Editor click on Group By in transformation ribbon\n",
    "- Power BI saves all changes internally in a separate file\n",
    "    - when we refresh the data, Power BI looks for the original column names\n",
    "        - don't change column names\n",
    "- split column acts like Text to Column in Excel\n",
    "- can use Python scripts in Power BI\n",
    "    - write code in Python script editor\n",
    "- if we want to ccreate that will sued in futher analyses, create it in the backend (original data source)\n",
    "    - otherwise create it as measure in frontend\n",
    "- adding columns to backend increases processing because file size of our original data source increases\n",
    "- tips for organized data management\n",
    "    - keep data organized, intuitive names\n",
    "    - hide/remove columsn we don't need\n",
    "    - regular check improve performance and clarity\n",
    "        - looking for redundancies, null values\n",
    "    - column names that are easy to understand\n",
    "- key performance indicators: metrics\n",
    "- report view: good part of Power BI where visualizations happens\n",
    "- can add multiple dashboards\n",
    "- building relationships between tables\n",
    "    - types\n",
    "        - one to one: each value in one table is linked to only one value in the second table\n",
    "            - similar to vlookup in Excel\n",
    "        - one to many: each value in one table is linked to many values in the second table\n",
    "        - many to many: all possible values/combinations appear in the final table\n",
    "            - original tables have primary key and secondary key\n",
    "    - cardinality: type of relationship in Power BI\n",
    "    - primary key of hte first table is related to the secondary key of the second table\n",
    "- data model\n",
    "    - Star schema: central fact table with connected dimension tables\n",
    "        - most tables have to be realted to the first table via the primary key to have a Star schema\n",
    "        - dimension vs fact tables\n",
    "            - dimension is descriptive\n",
    "            - fact is numerical\n",
    "- introduction to DAX\n",
    "    - DAX is reliant on table relationships\n",
    "        - querries from one table to another\n",
    "    - creating basic measures in DAX\n",
    "        - unique products/distinct count  \n",
    "          unique products sold = distinctcount(Sales[ProductID])"
   ]
  },
  {
   "cell_type": "markdown",
   "id": "965ffb87",
   "metadata": {},
   "source": [
    "### Introduction to basic visualization\n",
    "- overview\n",
    "    - standard visual charts\n",
    "    - customizing visuals using visualization page\n",
    "        - elegant, clarity\n",
    "- when making dhaskboards there shouldn't be too much white spaces\n",
    "    - a lot of white space is perceived as inefficient\n",
    "    - also, don't be clustering too much data together"
   ]
  },
  {
   "cell_type": "markdown",
   "id": "45af586b",
   "metadata": {},
   "source": [
    "### Power BI visualization\n",
    "- Analysis pane: allows to do a bit of analysis\n",
    "- Slicers: interactive data filters\n",
    "- considerations\n",
    "    - avoid excessive slicers\n",
    "    - logical placement of slicers and filters\n",
    "    - aesthetically pleasing\n",
    "    - should flow like a story"
   ]
  },
  {
   "cell_type": "markdown",
   "id": "675cbd8f",
   "metadata": {},
   "source": [
    "### Introduction to advanced visualization techniques\n",
    "- advanced chart types are used when stakeholders and clients specifically request them\n",
    "- best practices for custom visuals from Power BI marketplace\n",
    "    - align visuals with goals\n",
    "    - review ratings and feedback\n",
    "    - monitor performance impact\n",
    "- calendar function takes range of dates  \n",
    "  =calendar(start date(yr, month, day), end date (yr, month, day))\n",
    "- DAX is programming language in Power BI\n",
    "- ternary operator: performs 3 operations at the same time (in the same statement)\n",
    "- key takeaways\n",
    "    - utilize marketplace for custom visualization but proceed with caution\n",
    "    - Power BI offers wide range of advanced customization options\n",
    "    - advanced DAX enable deeper data insights\n",
    "    - dashboards should be interactive, customized, and catered to the audience for effective storytelling"
   ]
  },
  {
   "cell_type": "markdown",
   "id": "7d9b97a6",
   "metadata": {},
   "source": [
    "### Introduction to row-level security and cloud service\n",
    "- row-level security: used to restrict data access to certain users\n",
    "    - filters restrict data access at the row level\n",
    "    - can define filters within roles\n",
    "- introduction to Power BI cloud service\n",
    "    - benefits: accessibility, real-time collaboration, scheduled data refresh\n",
    "    - incremental load: whatever data is coming, add it incrementally\n",
    "- considerations for mobile version of Power BI\n",
    "    - continual testing on various devices\n",
    "    - vertical scrolling preferences\n",
    "- key takeaways of cloud version\n",
    "    - Power BI emphasizes sharing and collaboration in cloud environment\n",
    "    - workspaces offer organized and controlled collaboration\n",
    "        - admin can control who has what permissions\n",
    "    - Power BI can be seamlessly integrated into platforms like Teams and SharePoint, enhancing data accessibility and collaboration\n",
    "- community: forum where we can ask questions, stay up to date on Power BI"
   ]
  }
 ],
 "metadata": {
  "kernelspec": {
   "display_name": "Python 3 (ipykernel)",
   "language": "python",
   "name": "python3"
  },
  "language_info": {
   "codemirror_mode": {
    "name": "ipython",
    "version": 3
   },
   "file_extension": ".py",
   "mimetype": "text/x-python",
   "name": "python",
   "nbconvert_exporter": "python",
   "pygments_lexer": "ipython3",
   "version": "3.9.12"
  }
 },
 "nbformat": 4,
 "nbformat_minor": 5
}
