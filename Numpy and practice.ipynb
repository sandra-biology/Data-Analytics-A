{
 "cells": [
  {
   "cell_type": "code",
   "execution_count": 4,
   "id": "5a42143b",
   "metadata": {},
   "outputs": [
    {
     "name": "stdout",
     "output_type": "stream",
     "text": [
      "[0 2 4 6 8]\n",
      "\n",
      "[0. 0. 0.]\n",
      "\n",
      "[[1. 1. 1. 1. 1.]\n",
      " [1. 1. 1. 1. 1.]\n",
      " [1. 1. 1. 1. 1.]\n",
      " [1. 1. 1. 1. 1.]\n",
      " [1. 1. 1. 1. 1.]]\n"
     ]
    }
   ],
   "source": [
    "import numpy as np\n",
    "\n",
    "print(np.arange(0, 10, 2))\n",
    "print()\n",
    "print((np.zeros(3)))\n",
    "print()\n",
    "print(np.ones((5, 5)))"
   ]
  },
  {
   "cell_type": "code",
   "execution_count": 5,
   "id": "48557b8c",
   "metadata": {},
   "outputs": [
    {
     "name": "stdout",
     "output_type": "stream",
     "text": [
      "[ 0.          3.33333333  6.66666667 10.        ]\n"
     ]
    }
   ],
   "source": [
    "print(np.linspace(0, 10, 4))  # start, stop, how many elements"
   ]
  },
  {
   "cell_type": "code",
   "execution_count": 9,
   "id": "e0784e3f",
   "metadata": {},
   "outputs": [
    {
     "name": "stdout",
     "output_type": "stream",
     "text": [
      "[0.47052231 0.47057365]\n",
      "[-0.57000585  0.3018661 ]\n"
     ]
    }
   ],
   "source": [
    "print(np.random.rand(2))  # random distribution from 0 to 1\n",
    "print(np.random.randn(2)) # generates elements from normal distribution"
   ]
  },
  {
   "cell_type": "code",
   "execution_count": null,
   "id": "ef013484",
   "metadata": {},
   "outputs": [],
   "source": []
  }
 ],
 "metadata": {
  "kernelspec": {
   "display_name": "Python 3 (ipykernel)",
   "language": "python",
   "name": "python3"
  },
  "language_info": {
   "codemirror_mode": {
    "name": "ipython",
    "version": 3
   },
   "file_extension": ".py",
   "mimetype": "text/x-python",
   "name": "python",
   "nbconvert_exporter": "python",
   "pygments_lexer": "ipython3",
   "version": "3.11.4"
  }
 },
 "nbformat": 4,
 "nbformat_minor": 5
}
