{
 "cells": [
  {
   "cell_type": "markdown",
   "id": "fc1bb4aa",
   "metadata": {},
   "source": [
    "### Introduction\n",
    "- data analysis: process of systematically applying statistical and/or logical techniques to describe and illustrate, condense and recap, and evaluate data\n",
    "- primary vs secondary data\n",
    "    - primary data is data you collect yourself\n",
    "    - secondary data is data someone collects for you\n",
    "- data science vs data analytics vs data mining\n",
    "    - data science: field or domain which includes and involves working with huge amounts of data and uses it for building predictive, prescriptive, and prescriptive analytical models; blend of the fields of computer science, business, and statistics together\n",
    "    - data mining: specific technique used within data science to extract patterns and knowledge from large data sets"
   ]
  },
  {
   "cell_type": "markdown",
   "id": "fbcbadf4",
   "metadata": {},
   "source": [
    "### Real-world examples and case studies of data analysis\n",
    "- healthcare: predicting outbreaks, improving patient care, enhancing operational efficiency\n",
    "    - population health: health outcomes of a group of individuals including the distribution of such outcomes within the group\n",
    "- finance: risk assessment, fraud detection, investment strategy, optimization, etc.\n",
    "- marketing: market segmentation, targeting, customer retention, and improving their return on investment"
   ]
  },
  {
   "cell_type": "markdown",
   "id": "4c9c4daa",
   "metadata": {},
   "source": [
    "### Introduction to data types\n",
    "- nominal vs ordinal qualitative data\n",
    "    - nominal: variables are differentiated by their names\n",
    "    - ordinal: order of variables is critical\n",
    "- quantitative data - interval vs ratio\n",
    "    - interval scales hold no true zero and can represent values below zero\n",
    "- structured vs unstructured\n",
    "    - structured: searchable, usually text format\n",
    "    - unstructured: basically the opposite"
   ]
  },
  {
   "cell_type": "markdown",
   "id": "25231136",
   "metadata": {},
   "source": [
    "### Basics of data collection methods and preprocessing\n",
    "- steps in data preprocessing: data cleaning, integration, transformation, reduction\n",
    "    - data cleaning: involves identifying and correcting errors or inconsistencies in the data\n",
    "    - data integration: involves combining data from multiple sources to create a unified dataset\n",
    "    - data transformation: involves converting data into a suitable format for analysis\n",
    "    - data reduction: involves reducing the size of the dataset while preserving important information"
   ]
  },
  {
   "cell_type": "markdown",
   "id": "59d1d652",
   "metadata": {},
   "source": [
    "### Data cleaning, integration, reduction, transformation, integration, and importance of data quality\n",
    "- data discretization: method of converting a huge number of data values into smaller ones so that the evaluation and management of data become easy\n",
    "    - method of converting attribute values of continuous data into a finite set of intervals with minimum data loss"
   ]
  },
  {
   "cell_type": "markdown",
   "id": "014e27ea",
   "metadata": {},
   "source": [
    "### Measures of central tendency\n",
    "- central tendency represents a central point or typical value of a dataset\n",
    "- median: middle number of a dataset\n",
    "    - better for incomes than average (mean) because some incomes are so large they skew the mean\n",
    "- mode: value that appears most frequently in a dataset\n",
    "    - unimodal: one value appears the most\n",
    "    - multimodal: more than value appears the most\n",
    "    - can be used for quantitive data but works well for qualitative  data\n",
    "        - Excel: mostly quantitative data"
   ]
  },
  {
   "cell_type": "markdown",
   "id": "1a00e2f7",
   "metadata": {},
   "source": [
    "### Distribution\n",
    "- standard deviation: a measure of how spread out the numbers in a dataset are\n",
    "    - two types: population standard deviation and sample standard deviation\n",
    "    - bigger standard deviation is indicative of variety in your dataset\n",
    "- empirical rule: for normal distribution, 68% of data fall within 1 standard deviation, 95%. of data fall within 2 standard deviations, 99% of data fall within 3 standard deviations\n",
    "- variance refers to tthe statistical measurement of the spread between numbers in a set"
   ]
  },
  {
   "cell_type": "markdown",
   "id": "eadbeae0",
   "metadata": {},
   "source": [
    "### Basic statistical concepts\n",
    "- skewness: measure of asymmetry of a distribution\n",
    "    - positively skewed curve: unimodal, leans to the left\n",
    "        - mean is bigger than both the median and the mode\n",
    "        - median occurs between mode and mean\n",
    "    - negatively skewed curve: unimodal, leans to the right\n",
    "        - mode is bigger than mean or median\n",
    "        - median occurs between mean and mode\n",
    "    - multimodal distribution has more than one peak\n",
    "- probability\n",
    "    - addition rule: when events are mutually exclusive\n",
    "    - multiplication rule: dependent events\n",
    "    - mutually exclusive events can't happen at the same time\n",
    "        - kings and aces in cards are mutually exclusive\n",
    "        - kings and hearts in cards are not mutually exclusive"
   ]
  },
  {
   "cell_type": "markdown",
   "id": "ff43ffd3",
   "metadata": {},
   "source": [
    "### Confidence intervals and correlation\n",
    "- confidence interval: range of values, derived from a data sample that's likely to contain the value of an unknown parameter\n",
    "    - the level of confidence of the confidence interval would indicate the probability that the confidence range captures this true population parameter given a distribution of samples\n",
    "    - usually expressed in percentage terms\n",
    "- correlation: statistical measure that describes the degree of a relationship between two variables"
   ]
  },
  {
   "cell_type": "markdown",
   "id": "494f71af",
   "metadata": {},
   "source": [
    "### Fundamentals of data analysis: regression analysis\n",
    "- pivot tables: dragging column(s) we need to rows and values\n",
    "    insert -> pivot table -> TableToRange -> OK (use new worksheet)\n",
    "- regression analysis: statistical method for modeling analysis between independent variable and one or more dependent variables\n",
    "    - measures how those variables affect each other using equations\n",
    "    - simple regression analysis involves two variables\n",
    "        - one independent variable\n",
    "        - one dependent variable\n",
    "    - multiple regression invovlves more than one independent variable\n",
    "    - used to predict/forecast the future"
   ]
  },
  {
   "cell_type": "markdown",
   "id": "ee159e9e",
   "metadata": {},
   "source": [
    "### Chi Square\n",
    "- chi square test: statistical test that is used to compared observed and expected results\n",
    "    - goal: identify whether disparity between results is due to chance or a link between hypothesis and results"
   ]
  },
  {
   "cell_type": "code",
   "execution_count": null,
   "id": "33158b41",
   "metadata": {},
   "outputs": [],
   "source": []
  }
 ],
 "metadata": {
  "kernelspec": {
   "display_name": "Python 3 (ipykernel)",
   "language": "python",
   "name": "python3"
  },
  "language_info": {
   "codemirror_mode": {
    "name": "ipython",
    "version": 3
   },
   "file_extension": ".py",
   "mimetype": "text/x-python",
   "name": "python",
   "nbconvert_exporter": "python",
   "pygments_lexer": "ipython3",
   "version": "3.9.12"
  }
 },
 "nbformat": 4,
 "nbformat_minor": 5
}
