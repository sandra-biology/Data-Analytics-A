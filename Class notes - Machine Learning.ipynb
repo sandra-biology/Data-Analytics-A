{
 "cells": [
  {
   "cell_type": "markdown",
   "id": "b55b4369",
   "metadata": {},
   "source": [
    "#### Introduction\n",
    "- growing technology which enables computers to learn from past experiences\n",
    "- AI vs machine learning\n",
    "    - machine learning is subset of AI\n",
    "        - development of algorithms and statistical models that enable learning from past experiences\n",
    "    - definition coined in the 1950s: machine learning enables machine to automatically learn from data, improve performance from experiences and predict things without being explicitly programmed\n",
    "- traditional programming vs machine learning\n",
    "    - traditional programming: data + program -> computer -> output\n",
    "    - machine learning: data + output -> computer -> program\n",
    "- classifications of machine learning\n",
    "    - supervised learning\n",
    "    - unsupervised learning\n",
    "    - reinforcement learning\n",
    "- regression vs classification\n",
    "    - regression: uses machine learning algorithms to learn continuous mapping function\n",
    "    - classification: algorithms want to learn discrete mapping function\n",
    "- types of unsupervised learning\n",
    "    - dimensionality reduction: reduces number of dimensions from high to low while retaining critical data\n",
    "    - no labeled data\n",
    "- reinforcement learning: feedback learning method\n",
    "    - right action gets a reward\n",
    "    - wrong action gets a penalty\n",
    "- batch vs onlien learning: based on production\n",
    "    - batch (offline, then deployed): system cannot learn incrementally\n",
    "        - batches of data\n",
    "    - online learning: training happens incrementally as data arrives\n",
    "        - good option if you have limited computer resources\n",
    "- instance-based vs model-based learning\n",
    "    - instance-based: involves memorizing training data\n",
    "    - model-based: constructs models from training data\n",
    "- machine learning process: data collection -> data exploration -> data preparation -> modeling -> evaluation (circles back to modeling, iterate to find best model)\n",
    "    - 80% of the time is usually spent in data collection, data exploration, data preparation stages\n",
    "    - steps\n",
    "        - frame the problem\n",
    "        - gather data\n",
    "        - data preprocessing/cleaning\n",
    "        - model training/evaluation\n",
    "        - model deployment\n",
    "        - model testing\n",
    "        - model optimization"
   ]
  },
  {
   "cell_type": "markdown",
   "id": "48b89f30",
   "metadata": {},
   "source": [
    "#### NumPy fundamentals\n",
    "- dtype allows us to chagne from integer to float for all elements in the array\n",
    "- reshape should be done into same number: (4, 4) or (2, 2, 2, 2) not (2, 4)\n",
    "- with cursor at the end fo the function name, Shift + Tab pulls up docstring\n",
    "- accessing 2D array by index: first number refers to row, second number refers to column\n",
    "- slicing\n",
    "    - 1D: same as list\n",
    "    - 2D: first row slicing, then column slicing\n",
    "- looping of arrays: row-wise  \n",
    "    - need to use two loops to print each element of 2D array or use diter()\n",
    "- splitting: resulting arrays need ot have same dimensions if hsplit() or vsplit() is used"
   ]
  }
 ],
 "metadata": {
  "kernelspec": {
   "display_name": "Python 3 (ipykernel)",
   "language": "python",
   "name": "python3"
  },
  "language_info": {
   "codemirror_mode": {
    "name": "ipython",
    "version": 3
   },
   "file_extension": ".py",
   "mimetype": "text/x-python",
   "name": "python",
   "nbconvert_exporter": "python",
   "pygments_lexer": "ipython3",
   "version": "3.11.4"
  }
 },
 "nbformat": 4,
 "nbformat_minor": 5
}
