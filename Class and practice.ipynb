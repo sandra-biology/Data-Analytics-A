{
 "cells": [
  {
   "cell_type": "code",
   "execution_count": 26,
   "id": "b6308247",
   "metadata": {},
   "outputs": [
    {
     "name": "stdout",
     "output_type": "stream",
     "text": [
      "x of object of class A: 5\n",
      "x of object of class A: 19\n"
     ]
    },
    {
     "data": {
      "text/plain": [
       "0"
      ]
     },
     "execution_count": 26,
     "metadata": {},
     "output_type": "execute_result"
    }
   ],
   "source": [
    "class A:\n",
    "    g = 0\n",
    "    def __init__(self, x):\n",
    "        # g += 1\n",
    "        self.x = x\n",
    "        \n",
    "    def get_x(self):\n",
    "        return self.x\n",
    "\n",
    "a = A(5)\n",
    "print(f'x of object of class A: {a.get_x()}')\n",
    "\n",
    "b = A(19)\n",
    "print(f'x of object of class A: {b.get_x()}')\n",
    "\n",
    "A.g"
   ]
  },
  {
   "cell_type": "code",
   "execution_count": 12,
   "id": "d0bda389",
   "metadata": {},
   "outputs": [
    {
     "name": "stdout",
     "output_type": "stream",
     "text": [
      "x of object of class A: 5\n",
      "x of object of class A: 19\n"
     ]
    },
    {
     "data": {
      "text/plain": [
       "0"
      ]
     },
     "execution_count": 12,
     "metadata": {},
     "output_type": "execute_result"
    }
   ],
   "source": [
    "class A:\n",
    "    g = 0\n",
    "    def __init__(self, x):\n",
    "        # g += 1\n",
    "        self.x = x\n",
    "        \n",
    "    def get_x(self):\n",
    "        return self.x\n",
    "\n",
    "a = A(5)\n",
    "print(f'x of object of class A: {a.get_x()}')\n",
    "\n",
    "b = A(19)\n",
    "print(f'x of object of class A: {b.get_x()}')\n",
    "\n",
    "A.g"
   ]
  },
  {
   "cell_type": "code",
   "execution_count": 15,
   "id": "fcaf00f1",
   "metadata": {},
   "outputs": [
    {
     "name": "stdout",
     "output_type": "stream",
     "text": [
      "x, y of object of class B: <__main__.B object at 0x0000024B46522DD0>\n",
      "x of object of class B: 6\n",
      "y of object of class B: 7\n"
     ]
    }
   ],
   "source": [
    "class B(A):\n",
    "    def __init__(self, x, y):\n",
    "        super().__init__(x)  # call constructor\n",
    "        self.y = y\n",
    "\n",
    "b = B(6, 7)\n",
    "print(f'x, y of object of class B: {b}')\n",
    "print(f'x of object of class B: {b.x}')\n",
    "print(f'y of object of class B: {b.y}')"
   ]
  },
  {
   "cell_type": "code",
   "execution_count": 16,
   "id": "6b602e19",
   "metadata": {},
   "outputs": [
    {
     "name": "stdout",
     "output_type": "stream",
     "text": [
      "3\n",
      "20\n"
     ]
    }
   ],
   "source": [
    "def fcall(fun, x):\n",
    "    print(fun(x))\n",
    "\n",
    "def f1(x):\n",
    "    return x+1\n",
    "\n",
    "def f2(x):\n",
    "    return 10 * x\n",
    "\n",
    "fcall(f1, 2)\n",
    "fcall(f2, 2)"
   ]
  },
  {
   "cell_type": "code",
   "execution_count": 20,
   "id": "a7bcd5de",
   "metadata": {},
   "outputs": [
    {
     "data": {
      "text/plain": [
       "[1, 9, 8, 7]"
      ]
     },
     "execution_count": 20,
     "metadata": {},
     "output_type": "execute_result"
    }
   ],
   "source": [
    "s = '1987'\n",
    "\n",
    "lst = list(s)\n",
    "\n",
    "list( map(int, lst) )"
   ]
  },
  {
   "cell_type": "code",
   "execution_count": 23,
   "id": "8bc82527",
   "metadata": {},
   "outputs": [
    {
     "name": "stdout",
     "output_type": "stream",
     "text": [
      "a.z: 100\n"
     ]
    },
    {
     "ename": "AttributeError",
     "evalue": "'A' object has no attribute 'z'",
     "output_type": "error",
     "traceback": [
      "\u001b[1;31m---------------------------------------------------------------------------\u001b[0m",
      "\u001b[1;31mAttributeError\u001b[0m                            Traceback (most recent call last)",
      "Cell \u001b[1;32mIn[23], line 6\u001b[0m\n\u001b[0;32m      2\u001b[0m \u001b[38;5;28mprint\u001b[39m(\u001b[38;5;124mf\u001b[39m\u001b[38;5;124m'\u001b[39m\u001b[38;5;124ma.z: \u001b[39m\u001b[38;5;132;01m{\u001b[39;00ma\u001b[38;5;241m.\u001b[39mz\u001b[38;5;132;01m}\u001b[39;00m\u001b[38;5;124m'\u001b[39m)\n\u001b[0;32m      4\u001b[0m \u001b[38;5;28;01mdel\u001b[39;00m a\u001b[38;5;241m.\u001b[39mz\n\u001b[1;32m----> 6\u001b[0m a\u001b[38;5;241m.\u001b[39mz\n",
      "\u001b[1;31mAttributeError\u001b[0m: 'A' object has no attribute 'z'"
     ]
    }
   ],
   "source": [
    "a.z = 100\n",
    "print(f'a.z: {a.z}')\n",
    "\n",
    "del a.z\n",
    "\n",
    "a.z"
   ]
  },
  {
   "cell_type": "code",
   "execution_count": 55,
   "id": "c356e427",
   "metadata": {},
   "outputs": [
    {
     "name": "stdout",
     "output_type": "stream",
     "text": [
      "Rahul\n",
      "886012\n",
      "My name is Rahul\n",
      "IdNumber: 886012\n",
      "Post: Intern\n"
     ]
    }
   ],
   "source": [
    "# single level inheritance\n",
    "\n",
    "# parent class\n",
    "class Person():\n",
    "    def __init__(self, name, idnumber):\n",
    "        self.name = name\n",
    "        self.idnumber = idnumber\n",
    "    \n",
    "    def display(self):\n",
    "        print(self.name)\n",
    "        print(self.idnumber)\n",
    "    \n",
    "    def details(self):\n",
    "        print('My name is {}'.format(self.name))\n",
    "        print('IdNumber: {}'.format(self.idnumber))\n",
    "\n",
    "# child class\n",
    "class Employee(Person):\n",
    "    def __init__(self, name, idnumber, salary, post):\n",
    "        super().__init__(name, idnumber)\n",
    "        self.salary = salary\n",
    "        self.post = post\n",
    "    \n",
    "    def details(self):\n",
    "        print('My name is {}'.format(self.name))\n",
    "        print('IdNumber: {}'.format(self.idnumber))\n",
    "        print('Post: {}'.format(self.post))\n",
    "\n",
    "# creation of an object variable or an instance\n",
    "a = Employee('Rahul', 886012, 200000, 'Intern')\n",
    "\n",
    "# calling method of the class Person using its instance\n",
    "a.display()\n",
    "a.details()"
   ]
  },
  {
   "cell_type": "code",
   "execution_count": 59,
   "id": "1dca22cf",
   "metadata": {},
   "outputs": [
    {
     "name": "stdout",
     "output_type": "stream",
     "text": [
      "John\n",
      "123456\n",
      "My name is John\n",
      "IdNumber: 123456\n",
      "Post: Manager\n",
      "Team: Development Team\n"
     ]
    }
   ],
   "source": [
    "# multilevel inheritance: child class inherits from parent, which inherits from its own parent\n",
    "\n",
    "class Person():\n",
    "    def __init__(self, name, idnumber):\n",
    "        self.name = name\n",
    "        self.idnumber = idnumber\n",
    "    \n",
    "    def display(self):\n",
    "        print(self.name)\n",
    "        print(self.idnumber)\n",
    "    \n",
    "    def details(self):\n",
    "        print('My name is {}'.format(self.name))\n",
    "        print('IdNumber: {}'.format(self.idnumber))\n",
    "\n",
    "class Employee(Person):\n",
    "    def __init__(self, name, idnumber, salary, post):\n",
    "        super().__init__(name, idnumber)\n",
    "        self.salary = salary\n",
    "        self.post = post\n",
    "    \n",
    "    def details(self):\n",
    "        print('My name is {}'.format(self.name))\n",
    "        print('IdNumber: {}'.format(self.idnumber))\n",
    "        print('Post: {}'.format(self.post))\n",
    "\n",
    "class Manager(Employee):\n",
    "    def __init__(self, name, idnumber, salary, post, team):\n",
    "        super().__init__(name, idnumber, salary, post)\n",
    "        self.team = team\n",
    "    \n",
    "    def details(self):\n",
    "        print('My name is {}'.format(self.name))\n",
    "        print('IdNumber: {}'.format(self.idnumber))\n",
    "        print('Post: {}'.format(self.post))\n",
    "        print('Team: {}'.format(self.team))\n",
    "\n",
    "# creating an instance of the Manager class\n",
    "manager = Manager('John', 123456, 50000, 'Manager', 'Development Team')\n",
    "\n",
    "# accessing and displaying details\n",
    "manager.display()\n",
    "manager.details()"
   ]
  },
  {
   "cell_type": "code",
   "execution_count": 62,
   "id": "81205188",
   "metadata": {},
   "outputs": [
    {
     "name": "stdout",
     "output_type": "stream",
     "text": [
      "John\n",
      "123456\n",
      "My name is John\n",
      "IdNumber: 123456\n",
      "Post: Developer\n",
      "\n",
      "Alice\n",
      "789012\n",
      "My name is Alice\n",
      "IdNumber: 789012\n",
      "Post: Development Team\n",
      "\n",
      "Bob\n",
      "654321\n",
      "My name is Bob\n",
      "IdNumber: 654321\n",
      "Specialization: Data Science\n"
     ]
    }
   ],
   "source": [
    "# hierarchical inheritance: multiple child classes inherit properties from a single parent class\n",
    "\n",
    "class Person():\n",
    "    def __init__(self, name, idnumber):\n",
    "        self.name = name\n",
    "        self.idnumber = idnumber\n",
    "    \n",
    "    def display(self):\n",
    "        print(self.name)\n",
    "        print(self.idnumber)\n",
    "    \n",
    "    def details(self):\n",
    "        print('My name is {}'.format(self.name))\n",
    "        print('IdNumber: {}'.format(self.idnumber))\n",
    "\n",
    "class Employee(Person):\n",
    "    def __init__(self, name, idnumber, salary, post):\n",
    "        super().__init__(name, idnumber)\n",
    "        self.salary = salary\n",
    "        self.post = post\n",
    "    \n",
    "    def details(self):\n",
    "        print('My name is {}'.format(self.name))\n",
    "        print('IdNumber: {}'.format(self.idnumber))\n",
    "        print('Post: {}'.format(self.post))\n",
    "\n",
    "class Manager(Person):\n",
    "    def __init__(self, name, idnumber, team):\n",
    "        super().__init__(name, idnumber)\n",
    "        self.team = team\n",
    "    \n",
    "    def details(self):\n",
    "        print('My name is {}'.format(self.name))\n",
    "        print('IdNumber: {}'.format(self.idnumber))\n",
    "        print('Team: {}'.format(self.team))\n",
    "\n",
    "class Engineer(Person):\n",
    "    def __init__(self, name, idnumber, specialization):\n",
    "        super().__init__(name, idnumber)\n",
    "        self.specialization = specialization\n",
    "    \n",
    "    def details(self):\n",
    "        print('My name is {}'.format(self.name))\n",
    "        print('IdNumber: {}'.format(self.idnumber))\n",
    "        print('Specialization: {}'.format(self.specialization))\n",
    "\n",
    "# creating instances of different classes\n",
    "employee = Employee('John', 123456, 50000, 'Developer')\n",
    "manager = Employee('Alice', 789012, 60000, 'Development Team')\n",
    "engineer = Engineer('Bob', 654321, 'Data Science')\n",
    "\n",
    "# accessing and displaying details\n",
    "employee.display()\n",
    "employee.details()\n",
    "print()\n",
    "manager.display()\n",
    "manager.details()\n",
    "print()\n",
    "engineer.display()\n",
    "engineer.details()"
   ]
  },
  {
   "cell_type": "code",
   "execution_count": 58,
   "id": "589abba2",
   "metadata": {},
   "outputs": [],
   "source": [
    "# multiple inheritance: a class inherits attributes and methods from more than one parent class\n",
    "\n",
    "class Person():\n",
    "    def __init__(self, name, idnumber):\n",
    "        self.name = name\n",
    "        self.idnumber = idnumber\n",
    "    \n",
    "    def display(self):\n",
    "        print(self.name)\n",
    "        print(self.idnumber)\n",
    "    \n",
    "class Employee(Person):\n",
    "    def __init__(self, name, idnumber, salary, post):\n",
    "        super().__init__(name, idnumber)\n",
    "        self.salary = salary\n",
    "        self.post = post\n",
    "    \n",
    "    def details(self):\n",
    "        print('My name is {}'.format(self.name))\n",
    "        print('IdNumber: {}'.format(self.idnumber))\n",
    "        print('Post: {}'.format(self.post))\n",
    "\n",
    "class Manager(Person):\n",
    "    def __init__(self, name, idnumber, team):\n",
    "        super().__init__(name, idnumber)\n",
    "        self.team = team\n",
    "    \n",
    "    def details(self):\n",
    "        print('My name is {}'.format(self.name))\n",
    "        print('IdNumber: {}'.format(self.idnumber))\n",
    "        print('Team: {}'.format(self.team))\n",
    "\n",
    "class Engineer(Person):\n",
    "    def __init__(self, name, idnumber, specialization):\n",
    "        super().__init__(name, idnumber)\n",
    "        self.specializaiton = specialization\n",
    "    \n",
    "    def details(self):\n",
    "        print('My name is {}'.format(self.name))\n",
    "        print('IdNumber: {}'.format(self.idnumber))\n",
    "        print('Specialization: {}'.format(self.specialization))\n",
    "\n",
    "class EmployeeEngineer(Employee, Engineer):\n",
    "    def __init__(self, name, idnumber, salary, post, specializaiton):\n",
    "        # call constructors of both parent classes\n",
    "        Employee.__init__(self, name, idnumber, salary, post)\n",
    "        Engineer.__init__(self, name, idnumber, specialization)\n",
    "    \n",
    "    def details(self):\n",
    "        print('My name is {}'.format(self.name))\n",
    "        print('IdNumber: {}'.format(self.idnumber))\n",
    "        print('Post: {}'.format(self.post))\n",
    "        print('Specialization: {}'.format(self.specialization))\n",
    "\n",
    "# creating an instance of EmployeeEngineer\n",
    "employee_engineer = EmployeeEngineer('Jane', 987654, 60000, 'Data Engineer', 'Big Data')\n",
    "\n",
    "# accessing and displaying details\n",
    "employee_engineer.display()\n",
    "employee_engineer.details()"
   ]
  }
 ],
 "metadata": {
  "kernelspec": {
   "display_name": "Python 3 (ipykernel)",
   "language": "python",
   "name": "python3"
  },
  "language_info": {
   "codemirror_mode": {
    "name": "ipython",
    "version": 3
   },
   "file_extension": ".py",
   "mimetype": "text/x-python",
   "name": "python",
   "nbconvert_exporter": "python",
   "pygments_lexer": "ipython3",
   "version": "3.11.4"
  }
 },
 "nbformat": 4,
 "nbformat_minor": 5
}
