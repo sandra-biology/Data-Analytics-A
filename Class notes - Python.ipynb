{
 "cells": [
  {
   "cell_type": "markdown",
   "id": "a42f7846",
   "metadata": {},
   "source": [
    "#### Python introduction\n",
    "- object-oriented: inheritance (in classes, etc.)\n",
    "- synthax -> uses forwared slashes\n",
    "- blank lines in code are ignored"
   ]
  },
  {
   "cell_type": "markdown",
   "id": "c151fad6",
   "metadata": {},
   "source": [
    "#### Functions\n",
    "- function: a named sequence of statements that performs a desired operation\n",
    "    - usually for repetitive tasks\n",
    "- fuctions help break our programs into smaller chunks\n",
    "- hash(): returns hashed value only for immutable objects\n",
    "    - basis of mechanism for generating keys in dictionary\n",
    "    - when hashing strings, hashed value is unique to each string\n",
    "- * allows us to define arbitrary arguments (when we don't know in advance how many arguments we'll be using to call the function)\n",
    "- lambda functions can have any number of functions but only one expression\n",
    "    - used when we require a nameless function for a short period of time\n",
    "    - generally used with built-in funcitons\n",
    "- filter() returns list of elements, takes only one iterable as input\n",
    "- eval() interprets string as code\""
   ]
  },
  {
   "cell_type": "markdown",
   "id": "5f2c6572",
   "metadata": {},
   "source": [
    "#### Loops\n",
    "- iterative, work until the end of the sequence (for loop) or the condition is no longer met (while loop)\n",
    "- range function\n",
    "    - generates list of numbers\n",
    "    - does not store all values in memory (Python 3)\n",
    "- break statement\n",
    "    - terminates the block containing it\n",
    "    - control of the program proceeds to the statement below break statement or to next iteration of inner loop (in case of nested loops with break statement in inner loop)\n",
    "- continue statement\n",
    "    - used to skip the rest of the code for the current iteration only\n",
    "    - control of the program goes to the next iteration\""
   ]
  },
  {
   "cell_type": "markdown",
   "id": "18d3e2b8",
   "metadata": {},
   "source": [
    "#### Sorting in Python\n",
    "- sorted() returns a new list\n",
    "    - accepts any iterable\n",
    "    - always returns list\n",
    "        - when iterable is dictionary, returns sorted list of keys\n",
    "- sort(): method of class list\n",
    "    - modifies list in place, returns None\n",
    "    - only defined for lists\n",
    "- preserve original order of records when multiple records have the same key\n",
    "- when we use built-in sort function, Python uses hybrid merge sort/insertion sort algorithm"
   ]
  }
 ],
 "metadata": {
  "kernelspec": {
   "display_name": "Python 3 (ipykernel)",
   "language": "python",
   "name": "python3"
  },
  "language_info": {
   "codemirror_mode": {
    "name": "ipython",
    "version": 3
   },
   "file_extension": ".py",
   "mimetype": "text/x-python",
   "name": "python",
   "nbconvert_exporter": "python",
   "pygments_lexer": "ipython3",
   "version": "3.11.4"
  }
 },
 "nbformat": 4,
 "nbformat_minor": 5
}
