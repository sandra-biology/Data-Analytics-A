{
 "cells": [
  {
   "cell_type": "markdown",
   "id": "a42f7846",
   "metadata": {},
   "source": [
    "# Python introduction\n",
    "- object-oriented: inheritance (in classes, etc.)\n",
    "- synthax -> uses forwared slashes\n",
    "- blank lines in code are ignored"
   ]
  }
 ],
 "metadata": {
  "kernelspec": {
   "display_name": "Python 3 (ipykernel)",
   "language": "python",
   "name": "python3"
  },
  "language_info": {
   "codemirror_mode": {
    "name": "ipython",
    "version": 3
   },
   "file_extension": ".py",
   "mimetype": "text/x-python",
   "name": "python",
   "nbconvert_exporter": "python",
   "pygments_lexer": "ipython3",
   "version": "3.9.12"
  }
 },
 "nbformat": 4,
 "nbformat_minor": 5
}
